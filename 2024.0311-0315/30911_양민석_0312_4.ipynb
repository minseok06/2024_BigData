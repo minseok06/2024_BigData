{
 "cells": [
  {
   "cell_type": "markdown",
   "id": "5a64a396",
   "metadata": {},
   "source": [
    "## 30911_양민석_0312_4"
   ]
  },
  {
   "cell_type": "markdown",
   "id": "e928d5ec",
   "metadata": {},
   "source": [
    "## 2.3 데이터를 넣는 입력 명령어\n",
    "#### 2.3.2 입력 명령어 input()"
   ]
  },
  {
   "cell_type": "code",
   "execution_count": 2,
   "id": "3145dec8",
   "metadata": {},
   "outputs": [
    {
     "name": "stdout",
     "output_type": "stream",
     "text": [
      "성일정보\n"
     ]
    },
    {
     "data": {
      "text/plain": [
       "'성일정보'"
      ]
     },
     "execution_count": 2,
     "metadata": {},
     "output_type": "execute_result"
    }
   ],
   "source": [
    "input()"
   ]
  },
  {
   "cell_type": "code",
   "execution_count": 4,
   "id": "ceec7ab3",
   "metadata": {},
   "outputs": [
    {
     "name": "stdout",
     "output_type": "stream",
     "text": [
      "이름: 양민석\n"
     ]
    },
    {
     "data": {
      "text/plain": [
       "'양민석'"
      ]
     },
     "execution_count": 4,
     "metadata": {},
     "output_type": "execute_result"
    }
   ],
   "source": [
    "input(\"이름: \")"
   ]
  },
  {
   "cell_type": "markdown",
   "id": "2dba5e61",
   "metadata": {},
   "source": [
    "출력형태\n",
    "```\n",
    "아이디 :\n",
    "비밀번호 :\n",
    "```"
   ]
  },
  {
   "cell_type": "code",
   "execution_count": 16,
   "id": "e49aa6bf",
   "metadata": {},
   "outputs": [
    {
     "name": "stdout",
     "output_type": "stream",
     "text": [
      "아이디 : 양민석\n",
      "비밀번호 : 보고싶다\n"
     ]
    },
    {
     "data": {
      "text/plain": [
       "'보고싶다'"
      ]
     },
     "execution_count": 16,
     "metadata": {},
     "output_type": "execute_result"
    }
   ],
   "source": [
    "input(\"아이디 : \")\n",
    "input(\"비밀번호 : \")"
   ]
  },
  {
   "cell_type": "markdown",
   "id": "1696727c",
   "metadata": {},
   "source": [
    "> 다음을 출력해 봅시다\n",
    "```\n",
    "학번을 입력하세요 ---> 30911\n",
    "```"
   ]
  },
  {
   "cell_type": "code",
   "execution_count": 18,
   "id": "e17c0d4c",
   "metadata": {},
   "outputs": [
    {
     "name": "stdout",
     "output_type": "stream",
     "text": [
      "학번을 입력하세요 ---> 30911\n"
     ]
    },
    {
     "data": {
      "text/plain": [
       "'30911'"
      ]
     },
     "execution_count": 18,
     "metadata": {},
     "output_type": "execute_result"
    }
   ],
   "source": [
    "input(\"학번을 입력하세요 ---> \")"
   ]
  },
  {
   "cell_type": "markdown",
   "id": "64850a35",
   "metadata": {},
   "source": [
    "> 출력해 보기\n",
    "```\n",
    "---회원가입---\n",
    "아이디: gilbut\n",
    "가입을 환영합니다!\n",
    "```"
   ]
  },
  {
   "cell_type": "code",
   "execution_count": 19,
   "id": "90ded1bb",
   "metadata": {},
   "outputs": [
    {
     "name": "stdout",
     "output_type": "stream",
     "text": [
      "---회원가입---\n",
      "아이디: gilbut\n",
      "가입을 환영합니다! \n"
     ]
    }
   ],
   "source": [
    "print('---회원가입---')\n",
    "input('아이디: ')\n",
    "print('가입을 환영합니다! ')"
   ]
  },
  {
   "cell_type": "markdown",
   "id": "94282808",
   "metadata": {},
   "source": [
    "> 출력해 봅시다\n",
    "```\n",
    "닉네임을 입력해 주세요 --> 제제쌤\n",
    "제제쌤 안녕하세요\n",
    "```"
   ]
  },
  {
   "cell_type": "code",
   "execution_count": 27,
   "id": "4993b4bb",
   "metadata": {},
   "outputs": [
    {
     "name": "stdout",
     "output_type": "stream",
     "text": [
      "제제쌤\n",
      "제제쌤님 안녕하세요\n"
     ]
    }
   ],
   "source": [
    "name = input()\n",
    "print('{}님 안녕하세요'.format(name))"
   ]
  },
  {
   "cell_type": "code",
   "execution_count": null,
   "id": "5fa49817",
   "metadata": {},
   "outputs": [],
   "source": []
  }
 ],
 "metadata": {
  "kernelspec": {
   "display_name": "Python 3 (ipykernel)",
   "language": "python",
   "name": "python3"
  },
  "language_info": {
   "codemirror_mode": {
    "name": "ipython",
    "version": 3
   },
   "file_extension": ".py",
   "mimetype": "text/x-python",
   "name": "python",
   "nbconvert_exporter": "python",
   "pygments_lexer": "ipython3",
   "version": "3.9.7"
  }
 },
 "nbformat": 4,
 "nbformat_minor": 5
}
