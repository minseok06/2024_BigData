{
 "cells": [
  {
   "cell_type": "markdown",
   "id": "5ea0c0e7",
   "metadata": {},
   "source": [
    "# 30911_양민석_0314_6"
   ]
  },
  {
   "cell_type": "markdown",
   "id": "0644c333",
   "metadata": {},
   "source": [
    "## 변수 : 변하는 수를 저장하는 공간"
   ]
  },
  {
   "cell_type": "code",
   "execution_count": 6,
   "id": "9e697531",
   "metadata": {},
   "outputs": [],
   "source": [
    "a = 10"
   ]
  },
  {
   "cell_type": "code",
   "execution_count": 8,
   "id": "d9f00676",
   "metadata": {},
   "outputs": [],
   "source": [
    "a = 20"
   ]
  },
  {
   "cell_type": "code",
   "execution_count": 9,
   "id": "5bf9bc54",
   "metadata": {},
   "outputs": [
    {
     "name": "stdout",
     "output_type": "stream",
     "text": [
      "20\n"
     ]
    }
   ],
   "source": [
    "print(a)"
   ]
  },
  {
   "cell_type": "markdown",
   "id": "70509e95",
   "metadata": {},
   "source": [
    "## 3.1.2 변수에 값을 저장하고 사용하기"
   ]
  },
  {
   "cell_type": "code",
   "execution_count": 10,
   "id": "5ac84e11",
   "metadata": {},
   "outputs": [
    {
     "name": "stdout",
     "output_type": "stream",
     "text": [
      "a\n",
      "10\n"
     ]
    }
   ],
   "source": [
    "a = 10\n",
    "print('a')\n",
    "print(a)"
   ]
  },
  {
   "cell_type": "code",
   "execution_count": 20,
   "id": "1f0702d4",
   "metadata": {},
   "outputs": [
    {
     "name": "stdout",
     "output_type": "stream",
     "text": [
      "10\n"
     ]
    }
   ],
   "source": [
    "민석이아빠 = 10\n",
    "print(민석이아빠)"
   ]
  },
  {
   "cell_type": "code",
   "execution_count": 44,
   "id": "d347325e",
   "metadata": {},
   "outputs": [],
   "source": [
    "b = '성일'\n",
    "c = '정보'"
   ]
  },
  {
   "cell_type": "code",
   "execution_count": 45,
   "id": "44756e18",
   "metadata": {},
   "outputs": [
    {
     "name": "stdout",
     "output_type": "stream",
     "text": [
      "성일정보\n",
      "성일 정보\n"
     ]
    }
   ],
   "source": [
    "print(b+c)\n",
    "print(b, c)"
   ]
  },
  {
   "cell_type": "code",
   "execution_count": 60,
   "id": "d5b91231",
   "metadata": {},
   "outputs": [
    {
     "name": "stdout",
     "output_type": "stream",
     "text": [
      "민석 키는 175 , 나이는 21 , 취미는 사진 찍기 입니다!\n",
      "민석 키는 175 , 나이는 21 , 취미는 사진 찍기 입니다!\n",
      "민석 키는 175 , 나이는 21 , 취미는 사진 찍기 입니다!\n"
     ]
    }
   ],
   "source": [
    "name = '민석'\n",
    "height = 175\n",
    "age = 21\n",
    "hobby = '사진 찍기'\n",
    "print(name, '키는', height, ', 나이는', age, ', 취미는', hobby, '입니다!')\n",
    "print('{} 키는 {} , 나이는 {} , 취미는 {} 입니다!'.format(name, height, age, hobby))\n",
    "print(f'{name} 키는 {height} , 나이는 {age} , 취미는 {hobby} 입니다!')"
   ]
  },
  {
   "cell_type": "markdown",
   "id": "ff234b0b",
   "metadata": {},
   "source": [
    "> 원의 넓이 구해봅시다.\n",
    "```\n",
    "공식 : 파이 * 반지름 ** 2\n",
    "```"
   ]
  },
  {
   "cell_type": "code",
   "execution_count": 66,
   "id": "aac92e20",
   "metadata": {},
   "outputs": [
    {
     "data": {
      "text/plain": [
       "78.5398"
      ]
     },
     "execution_count": 66,
     "metadata": {},
     "output_type": "execute_result"
    }
   ],
   "source": [
    "3.141592 * 5 ** 2"
   ]
  },
  {
   "cell_type": "code",
   "execution_count": 68,
   "id": "add51583",
   "metadata": {},
   "outputs": [
    {
     "name": "stdout",
     "output_type": "stream",
     "text": [
      "78.5398\n"
     ]
    }
   ],
   "source": [
    "p = 3.141592\n",
    "r = 5\n",
    "print(p * r ** 2)"
   ]
  },
  {
   "cell_type": "code",
   "execution_count": 71,
   "id": "372741bb",
   "metadata": {},
   "outputs": [
    {
     "name": "stdout",
     "output_type": "stream",
     "text": [
      "원의 넓이 = 3.141592 * 5 ** 2 = 78.5398\n"
     ]
    }
   ],
   "source": [
    "result = p * r ** 2\n",
    "print(f'원의 넓이 = {p} * {r} ** 2 = {result}')"
   ]
  }
 ],
 "metadata": {
  "kernelspec": {
   "display_name": "Python 3 (ipykernel)",
   "language": "python",
   "name": "python3"
  },
  "language_info": {
   "codemirror_mode": {
    "name": "ipython",
    "version": 3
   },
   "file_extension": ".py",
   "mimetype": "text/x-python",
   "name": "python",
   "nbconvert_exporter": "python",
   "pygments_lexer": "ipython3",
   "version": "3.9.7"
  }
 },
 "nbformat": 4,
 "nbformat_minor": 5
}
