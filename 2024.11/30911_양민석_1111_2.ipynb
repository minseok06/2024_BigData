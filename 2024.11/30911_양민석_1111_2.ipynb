{
 "cells": [
  {
   "cell_type": "markdown",
   "id": "0426f965",
   "metadata": {},
   "source": [
    "# 30911_양민석_1111_2"
   ]
  },
  {
   "cell_type": "markdown",
   "id": "ed604350",
   "metadata": {},
   "source": [
    "## 1151 : 10보다 작은 수\n",
    "\n",
    "10보다 작은 수가 입력되면 small 을 출력, 10이상이면 아무것도 출력하지 마시오."
   ]
  },
  {
   "cell_type": "code",
   "execution_count": 12,
   "id": "6b085e93",
   "metadata": {},
   "outputs": [
    {
     "name": "stdout",
     "output_type": "stream",
     "text": [
      "2\n",
      "small\n"
     ]
    }
   ],
   "source": [
    "a = int(input())\n",
    "\n",
    "if a >= 10:\n",
    "    print()\n",
    "else:\n",
    "    print('small')"
   ]
  },
  {
   "cell_type": "markdown",
   "id": "e9a6bd04",
   "metadata": {},
   "source": [
    "## 1152 : 10보다 작은 수 (else 버전)\n",
    "\n",
    "10보다 작은 정수가 입력되면 small 을 출력, 그 이상의 수가 입력되면 big 을 출력하시오."
   ]
  },
  {
   "cell_type": "code",
   "execution_count": 32,
   "id": "6afeddbc",
   "metadata": {},
   "outputs": [
    {
     "name": "stdout",
     "output_type": "stream",
     "text": [
      "15\n",
      "big\n"
     ]
    }
   ],
   "source": [
    "b = int(input())\n",
    "\n",
    "if b < 10:\n",
    "    print('small')\n",
    "else:\n",
    "    print('big')"
   ]
  },
  {
   "cell_type": "markdown",
   "id": "95bd7d96",
   "metadata": {},
   "source": [
    "## 1153 : 두 수의 대소 비교\n",
    "\n",
    "두 정수가 입력된다.  두 정수의 크기를 비교하여 왼쪽 수가 크면 > 를 출력, 오른쪽 수가 크면 < 를 출력, 같으면 = 을 출력하시오."
   ]
  },
  {
   "cell_type": "code",
   "execution_count": 42,
   "id": "fc494bf1",
   "metadata": {},
   "outputs": [
    {
     "name": "stdout",
     "output_type": "stream",
     "text": [
      "2 6\n",
      "<\n"
     ]
    }
   ],
   "source": [
    "a, b = map(int, input().split())\n",
    "\n",
    "if a > b:\n",
    "    print('>')\n",
    "elif a < b:\n",
    "    print('<')\n",
    "else:\n",
    "    print('=')"
   ]
  }
 ],
 "metadata": {
  "kernelspec": {
   "display_name": "Python 3 (ipykernel)",
   "language": "python",
   "name": "python3"
  },
  "language_info": {
   "codemirror_mode": {
    "name": "ipython",
    "version": 3
   },
   "file_extension": ".py",
   "mimetype": "text/x-python",
   "name": "python",
   "nbconvert_exporter": "python",
   "pygments_lexer": "ipython3",
   "version": "3.9.7"
  }
 },
 "nbformat": 4,
 "nbformat_minor": 5
}
