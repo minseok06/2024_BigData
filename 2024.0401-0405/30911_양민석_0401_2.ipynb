{
 "cells": [
  {
   "cell_type": "markdown",
   "id": "9b9e87e7-b0a8-4d78-95e5-e2752f731761",
   "metadata": {},
   "source": [
    "# 30911_양민석_0401_1"
   ]
  },
  {
   "cell_type": "markdown",
   "id": "0518e98c-3486-42ac-bb16-620f028c051b",
   "metadata": {},
   "source": [
    "# 문제 72번\n",
    "정수(1 ~ 100) 1개가 입력되었을 때 카운트다운을 출력해보자.\r\n",
    "\r\n",
    "while 조건식 :\r\n",
    "  ...\r\n",
    "  ...\r\n",
    "반복 실행구조를 사용해 보자.\r\n",
    "\r\n",
    "예시\r\n",
    "...\r\n",
    "while n!=0 :\r\n",
    "  print(n)\r\n",
    "  n = n-1\r\n",
    "...\r\n",
    "\r\n",
    "참고\r\n",
    "n = n-1  #n에 저장되어있던 값에서 1만큼 뺀 후, 그 값을 다시 n에 저장시킨다.\r\n",
    "n -= 1 과 같이 짧게 작성할 수도 있다. n -= 1 은 n = n-1 과 같은 의미이다.\r\n",
    "이렇게 산술연산자(+, -, *, / ... )와 대입 연산자(=)를 함께 쓰는 것을 복합대입연산자라고도 부른다.\r\n",
    "같은 방법으로 +=, *=, /=, //=, %=, &=, |=, ^=, >>=, <<=, **= 등과 같이 짧게 작성할 수 있다.\r\n",
    "\r\n",
    "처음에 조건식을 검사하고, 그 다음에 실행하고, 그 다음에 값을 바꾸고...\r\n",
    "다시 조건식을 검사하고, 실행하고, 값을 바꾸고..."
   ]
  },
  {
   "cell_type": "code",
   "execution_count": 55,
   "id": "54cca778-dd08-47d6-ad1f-a11d46ee3ae5",
   "metadata": {},
   "outputs": [
    {
     "name": "stdin",
     "output_type": "stream",
     "text": [
      " 5\n"
     ]
    },
    {
     "name": "stdout",
     "output_type": "stream",
     "text": [
      "5\n",
      "4\n",
      "3\n",
      "2\n",
      "1\n"
     ]
    }
   ],
   "source": [
    "n = int(input())\n",
    "while n!=0:\n",
    "    print(n)\n",
    "    n = n-1"
   ]
  }
 ],
 "metadata": {
  "kernelspec": {
   "display_name": "Python 3 (ipykernel)",
   "language": "python",
   "name": "python3"
  },
  "language_info": {
   "codemirror_mode": {
    "name": "ipython",
    "version": 3
   },
   "file_extension": ".py",
   "mimetype": "text/x-python",
   "name": "python",
   "nbconvert_exporter": "python",
   "pygments_lexer": "ipython3",
   "version": "3.11.7"
  }
 },
 "nbformat": 4,
 "nbformat_minor": 5
}
