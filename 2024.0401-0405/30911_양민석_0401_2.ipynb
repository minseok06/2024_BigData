{
 "cells": [
  {
   "cell_type": "markdown",
   "id": "9b9e87e7-b0a8-4d78-95e5-e2752f731761",
   "metadata": {},
   "source": [
    "# 30911_양민석_0401_2"
   ]
  },
  {
   "cell_type": "markdown",
   "id": "0518e98c-3486-42ac-bb16-620f028c051b",
   "metadata": {},
   "source": [
    "# 문제 72번\n",
    "정수(1 ~ 100) 1개가 입력되었을 때 카운트다운을 출력해보자.\n",
    "\n",
    "while 조건식 :\n",
    "  ...\n",
    "  ...\n",
    "반복 실행구조를 사용해 보자.\n",
    "\n",
    "예시\n",
    "...\n",
    "while n!=0 :\n",
    "  print(n)\n",
    "  n = n-1\n",
    "...\n",
    "\n",
    "참고\n",
    "n = n-1  #n에 저장되어있던 값에서 1만큼 뺀 후, 그 값을 다시 n에 저장시킨다.\n",
    "n -= 1 과 같이 짧게 작성할 수도 있다. n -= 1 은 n = n-1 과 같은 의미이다.\n",
    "이렇게 산술연산자(+, -, *, / ... )와 대입 연산자(=)를 함께 쓰는 것을 복합대입연산자라고도 부른다.\n",
    "같은 방법으로 +=, *=, /=, //=, %=, &=, |=, ^=, >>=, <<=, **= 등과 같이 짧게 작성할 수 있다.\n",
    "\n",
    "처음에 조건식을 검사하고, 그 다음에 실행하고, 그 다음에 값을 바꾸고...\n",
    "다시 조건식을 검사하고, 실행하고, 값을 바꾸고..."
   ]
  },
  {
   "cell_type": "code",
   "execution_count": 9,
   "id": "54cca778-dd08-47d6-ad1f-a11d46ee3ae5",
   "metadata": {},
   "outputs": [
    {
     "name": "stdout",
     "output_type": "stream",
     "text": [
      "5\n",
      "5\n",
      "4\n",
      "3\n",
      "2\n",
      "1\n"
     ]
    }
   ],
   "source": [
    "n = int(input())\n",
    "while n!=0:\n",
    "    print(n)\n",
    "    n = n-1"
   ]
  },
  {
   "cell_type": "markdown",
   "id": "54ffa420",
   "metadata": {},
   "source": [
    "# 문제 73번\n",
    "정수(1 ~ 100) 1개가 입력되었을 때 카운트다운을 출력해보자.\n",
    "\n",
    "while 조건식 :\n",
    "  ...\n",
    "  ...\n",
    "\n",
    "반복 실행구조를 사용해 보자.\n",
    "\n",
    "참고\n",
    "조건검사, 출력, 감소의 순서와 타이밍을 잘 생각해보자."
   ]
  },
  {
   "cell_type": "code",
   "execution_count": 41,
   "id": "72d6eeb4",
   "metadata": {},
   "outputs": [
    {
     "name": "stdout",
     "output_type": "stream",
     "text": [
      "4\n",
      "3\n",
      "2\n",
      "1\n",
      "0\n"
     ]
    }
   ],
   "source": [
    "n = int(input())\n",
    "while n!=0:\n",
    "    n = n-1\n",
    "    print(n)"
   ]
  },
  {
   "cell_type": "markdown",
   "id": "9cea7158",
   "metadata": {},
   "source": [
    "# 문제 74번\n",
    "영문 소문자(a ~ z) 1개가 입력되었을 때,\n",
    "a부터 그 문자까지의 알파벳을 순서대로 출력해보자.\n",
    "\n",
    "예시\n",
    "c = ord(input())\n",
    "t = ord('a')\n",
    "while t<=c :\n",
    "  print(chr(t), end=' ')\n",
    "  t += 1\n",
    "\n",
    "참고\n",
    "알파벳 문자 a의 정수값은 ord('a')로 알아낼 수 있다.\n",
    "chr(정수값)을 이용하면 유니코드 문자로 출력할 수 있다.\n",
    "print(..., end=' ') 와 같이 작성하면 값 출력 후 공백문자 ' '를 출력한다. 즉, 마지막에 줄을 바꾸지 않고 빈칸만 띄운다.\n",
    "(end='\\n'로 작성하거나 생략하면, 값을 출력한 후 마지막(end)에 줄바꿈(newline)이 된다.)"
   ]
  },
  {
   "cell_type": "code",
   "execution_count": 36,
   "id": "1eab2165",
   "metadata": {},
   "outputs": [
    {
     "name": "stdout",
     "output_type": "stream",
     "text": [
      "f\n",
      "a b c d e f "
     ]
    }
   ],
   "source": [
    "c = ord(input())\n",
    "t = ord('a')\n",
    "while t<=c:\n",
    "    print(chr(t), end=' ')\n",
    "    t += 1"
   ]
  },
  {
   "cell_type": "markdown",
   "id": "ca5309b4",
   "metadata": {},
   "source": [
    "# 문제 75번\n",
    "정수(0 ~ 100) 1개를 입력받아 0부터 그 수까지 순서대로 출력해보자."
   ]
  },
  {
   "cell_type": "code",
   "execution_count": 53,
   "id": "bbfef807",
   "metadata": {},
   "outputs": [
    {
     "name": "stdout",
     "output_type": "stream",
     "text": [
      "4\n",
      "0\n",
      "1\n",
      "2\n",
      "3\n",
      "4\n"
     ]
    }
   ],
   "source": [
    "n = int(input())\n",
    "b = int(0)\n",
    "while b <= n:\n",
    "    print(b)\n",
    "    b += 1"
   ]
  },
  {
   "cell_type": "markdown",
   "id": "dedd9aa2",
   "metadata": {},
   "source": [
    "# 문제 76번\n",
    "정수(0 ~ 100) 1개를 입력받아 0부터 그 수까지 순서대로 출력해보자.\n",
    "\n",
    "예시\n",
    "n = int(input())\n",
    "for i in range(n+1) :\n",
    "  print(i)\n",
    "\n",
    "참고\n",
    "range(n) 은 0, 1, 2, ... , n-2, n-1 까지의 수열을 의미한다.\n",
    "예를 들어 range(3) 은 0, 1, 2 인 수열을 의미한다.\n",
    "\n",
    "for i in range(n) :    #range(n)에 들어있는(in) 각각의 수에 대해서(for) 순서대로 i에 저장해 가면서...\n",
    "이때의 for는 각각의 값에 대하여... 라는 for each 의 의미를 가진다고 생각할 수 있다.\n",
    "\n",
    "range(끝)\n",
    "range(시작, 끝)\n",
    "range(시작, 끝, 증감)\n",
    "형태로 수열을 표현할 수 있다. 시작 수는 포함이고, 끝 수는 포함되지 않는다. [시작, 끝)\n",
    "증감할 수를 작성하지 않으면 +1이 된다.\n",
    "\n",
    "반복 실행구조에 반복 횟수를 기록/저장하는 변수로 i를 자주 사용하는데,\n",
    "i 는 반복자(iterator)를 나타내는 i라고 생각할 수 있다. i, j, k ... 알파벳 순으로 사용하기도 한다."
   ]
  },
  {
   "cell_type": "code",
   "execution_count": 57,
   "id": "07ab3284",
   "metadata": {},
   "outputs": [
    {
     "name": "stdout",
     "output_type": "stream",
     "text": [
      "5\n",
      "0\n",
      "1\n",
      "2\n",
      "3\n",
      "4\n",
      "5\n"
     ]
    }
   ],
   "source": [
    "n = int(input())\n",
    "for i in range(n+1):\n",
    "    print(i)"
   ]
  }
 ],
 "metadata": {
  "kernelspec": {
   "display_name": "Python 3 (ipykernel)",
   "language": "python",
   "name": "python3"
  },
  "language_info": {
   "codemirror_mode": {
    "name": "ipython",
    "version": 3
   },
   "file_extension": ".py",
   "mimetype": "text/x-python",
   "name": "python",
   "nbconvert_exporter": "python",
   "pygments_lexer": "ipython3",
   "version": "3.9.7"
  }
 },
 "nbformat": 4,
 "nbformat_minor": 5
}
