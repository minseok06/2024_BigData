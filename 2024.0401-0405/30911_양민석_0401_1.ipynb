{
 "cells": [
  {
   "cell_type": "markdown",
   "id": "9b9e87e7-b0a8-4d78-95e5-e2752f731761",
   "metadata": {},
   "source": [
    "# 30911_양민석_0401_1"
   ]
  },
  {
   "cell_type": "markdown",
   "id": "0518e98c-3486-42ac-bb16-620f028c051b",
   "metadata": {},
   "source": [
    "# 배열 원소의 최댓값을 구하는 함수 구현하기\n",
    "## 실습 2-2"
   ]
  },
  {
   "cell_type": "code",
   "execution_count": 5,
   "id": "54cca778-dd08-47d6-ad1f-a11d46ee3ae5",
   "metadata": {},
   "outputs": [
    {
     "name": "stdout",
     "output_type": "stream",
     "text": [
      "배열의 최댓값을 구합니다.\n",
      "원소 수를 입력하세요 : 5\n",
      "x[0]를 입력하세요.: 172\n",
      "x[1]를 입력하세요.: 153\n",
      "x[2]를 입력하세요.: 192\n",
      "x[3]를 입력하세요.: 140\n",
      "x[4]를 입력하세요.: 165\n",
      "최댓값은 192입니다.\n"
     ]
    }
   ],
   "source": [
    "# 시퀀스 원소의 최댓값 출력하기\n",
    "\n",
    "from typing import Any, Sequence\n",
    "\n",
    "def max_of(a: Sequence) -> Any:\n",
    "    \"\"\"시퀀스형 a 요소의 최댓값을 반환\"\"\"\n",
    "    maximum = a[0]\n",
    "    for i in range(1, len(a)):\n",
    "        if a[i] > maximum:\n",
    "            maximum = a[i]\n",
    "    return maximum\n",
    "\n",
    "if __name__ == '__main__':\n",
    "    print(\"배열의 최댓값을 구합니다.\")\n",
    "    num = int(input('원소 수를 입력하세요 : '))\n",
    "    x = [None] * num  # 원소 수가 num인 리스트를 생성\n",
    "    \n",
    "    for i in range(num):\n",
    "        x[i] = int(input(f'x[{i}]를 입력하세요.: '))\n",
    "        \n",
    "    print(f'최댓값은 {max_of(x)}입니다.')"
   ]
  },
  {
   "cell_type": "markdown",
   "id": "6c9e6e2b",
   "metadata": {},
   "source": [
    "## 실습 2-3"
   ]
  },
  {
   "cell_type": "code",
   "execution_count": 11,
   "id": "2156f93b",
   "metadata": {},
   "outputs": [
    {
     "name": "stdout",
     "output_type": "stream",
     "text": [
      "배열의 최댓값을 구합니다.\n",
      "주의: \"End\"를 입력하면 종료합니다.\n",
      "x[0]를 입력하세요.: 10\n",
      "x[1]를 입력하세요.: 60\n",
      "x[2]를 입력하세요.: 50\n",
      "x[3]를 입력하세요.: 30\n",
      "x[4]를 입력하세요.: End\n",
      "4개를 입력했습니다.\n",
      "최댓값은 60입니다.\n"
     ]
    }
   ],
   "source": [
    "# 배열 원소의 최댓값을 구해서 출력하기(원솟값을 입력받음)\n",
    "# from max import max_of\n",
    "\n",
    "print('배열의 최댓값을 구합니다.')\n",
    "print('주의: \"End\"를 입력하면 종료합니다.')\n",
    "\n",
    "number = 0\n",
    "x = []\n",
    "\n",
    "while True:\n",
    "    s = input(f'x[{number}]를 입력하세요.: ')\n",
    "    if s == 'End':\n",
    "        break\n",
    "    x.append(int(s))\n",
    "    number += 1\n",
    "    \n",
    "print(f'{number}개를 입력했습니다.')\n",
    "print(f'최댓값은 {max_of(x)}입니다.')"
   ]
  },
  {
   "cell_type": "markdown",
   "id": "57f96330",
   "metadata": {},
   "source": [
    "## 실습 2-4"
   ]
  },
  {
   "cell_type": "code",
   "execution_count": 7,
   "id": "9e5d55c7",
   "metadata": {},
   "outputs": [
    {
     "name": "stdout",
     "output_type": "stream",
     "text": [
      "난수의 최댓값을 구합니다.\n",
      "난수의 개수를 입력하세요.: 5\n",
      "난수의 최솟값을 입력하세요.: 10\n",
      "난수의 최댓값을 입력하세요.: 99\n",
      "[67, 39, 49, 26, 36]\n",
      "이 가운데 최댓값은 67입니다.\n"
     ]
    }
   ],
   "source": [
    "# 배열 원소의 최댓값을 구해서 출력하기(원솟값을 난수로 생성)\n",
    "\n",
    "import random\n",
    "\n",
    "print('난수의 최댓값을 구합니다.')\n",
    "num = int(input('난수의 개수를 입력하세요.: '))\n",
    "lo = int(input('난수의 최솟값을 입력하세요.: '))\n",
    "hi = int(input('난수의 최댓값을 입력하세요.: '))\n",
    "x = [None] * num\n",
    "\n",
    "for i in range(num):\n",
    "    x[i] = random.randint(lo, hi)\n",
    "    \n",
    "print(f'{(x)}')\n",
    "print(f'이 가운데 최댓값은 {max_of(x)}입니다.')"
   ]
  }
 ],
 "metadata": {
  "kernelspec": {
   "display_name": "Python 3 (ipykernel)",
   "language": "python",
   "name": "python3"
  },
  "language_info": {
   "codemirror_mode": {
    "name": "ipython",
    "version": 3
   },
   "file_extension": ".py",
   "mimetype": "text/x-python",
   "name": "python",
   "nbconvert_exporter": "python",
   "pygments_lexer": "ipython3",
   "version": "3.9.7"
  }
 },
 "nbformat": 4,
 "nbformat_minor": 5
}
