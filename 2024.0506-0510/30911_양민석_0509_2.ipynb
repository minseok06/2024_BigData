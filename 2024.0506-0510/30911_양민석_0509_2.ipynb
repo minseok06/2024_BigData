{
 "cells": [
  {
   "cell_type": "markdown",
   "id": "855d78c0",
   "metadata": {},
   "source": [
    "# 30911_양민석_0509_2"
   ]
  },
  {
   "cell_type": "code",
   "execution_count": 9,
   "id": "683d39bf",
   "metadata": {},
   "outputs": [
    {
     "name": "stdout",
     "output_type": "stream",
     "text": [
      "영어단어, 뜻 : love,사랑\n",
      "영어단어, 뜻 : confession,고백\n",
      "영어단어, 뜻 : \n"
     ]
    },
    {
     "data": {
      "text/plain": [
       "{'love': '사랑', 'confession': '고백'}"
      ]
     },
     "execution_count": 9,
     "metadata": {},
     "output_type": "execute_result"
    }
   ],
   "source": [
    "d_word = {}\n",
    "\n",
    "while True:\n",
    "    input_word = input('영어단어, 뜻 : ')\n",
    "    if input_word == '':\n",
    "        break\n",
    "        \n",
    "    eng = input_word.split(',')[0]\n",
    "    kor = input_word.split(',')[1]\n",
    "    \n",
    "    d_word[eng] = kor\n",
    "    \n",
    "d_word"
   ]
  },
  {
   "cell_type": "code",
   "execution_count": 13,
   "id": "b512b545",
   "metadata": {},
   "outputs": [
    {
     "name": "stdout",
     "output_type": "stream",
     "text": [
      "물건구매가 : 200000\n",
      "\n",
      "구매가 : 200000\n",
      "할인율 : 10%\n",
      "할인금액 : 20000.0\n",
      "지불금액 : 180000.0\n",
      "\n"
     ]
    }
   ],
   "source": [
    "price = int(input('물건구매가 : '))\n",
    "\n",
    "if price >= 100000:\n",
    "    dc = 10\n",
    "elif price >= 50000:\n",
    "    dc = 7\n",
    "elif price >= 10000:\n",
    "    dc = 5\n",
    "else:\n",
    "    dc = 0\n",
    "    \n",
    "print(f'''\n",
    "구매가 : {price}\n",
    "할인율 : {dc}%\n",
    "할인금액 : {price*(dc/100)}\n",
    "지불금액 : {price - price*(dc/100)}\n",
    "''')"
   ]
  },
  {
   "cell_type": "code",
   "execution_count": 15,
   "id": "f6d59eb5",
   "metadata": {},
   "outputs": [
    {
     "name": "stdout",
     "output_type": "stream",
     "text": [
      "숫자1 : 30\n",
      "숫자2 : 30\n",
      "연산기호 : /\n",
      "나눗셈 : 30 / 30 = 1.0\n"
     ]
    }
   ],
   "source": [
    "num1 = int(input('숫자1 : '))\n",
    "num2 = int(input('숫자2 : '))\n",
    "op = input('연산기호 : ')\n",
    "\n",
    "if op == '+':\n",
    "    print(f'덧셈 : {num1} + {num2} = {num1+num2}')\n",
    "elif op == '-':\n",
    "    print(f'뺄셈 : {num1} - {num2} = {num1-num2}')\n",
    "elif op == '*':\n",
    "    print(f'곰셈 : {num1} * {num2} = {num1*num2}')\n",
    "elif op == '/':\n",
    "    print(f'나눗셈 : {num1} / {num2} = {num1/num2}')\n",
    "else:\n",
    "    print(f'잘못 입력하셨습니다.')"
   ]
  },
  {
   "cell_type": "code",
   "execution_count": 31,
   "id": "90e15c1f",
   "metadata": {},
   "outputs": [
    {
     "name": "stdout",
     "output_type": "stream",
     "text": [
      "Attempt 1. 예상 숫자를 입력하세요(1~100): 30\n",
      "Down\n",
      "Attempt 2. 예상 숫자를 입력하세요(1~100): 20\n",
      "정답 입니다!\n",
      "2번 만에 맞추었습니다.\n"
     ]
    }
   ],
   "source": [
    "import random\n",
    "def guess_number_game(max_attempts=5):\n",
    "    cnt = 0\n",
    "    num = random.randint(1, 100)\n",
    "    \n",
    "    while cnt < max_attempts:\n",
    "        cnt += 1\n",
    "        answer = int(input(f'Attempt {cnt}. 예상 숫자를 입력하세요(1~100): '))\n",
    "        if answer == num:\n",
    "            print(f'정답 입니다!')\n",
    "            print(f'{cnt}번 만에 맞추었습니다.')\n",
    "            return\n",
    "        \n",
    "        if answer < num:\n",
    "            print('Up')\n",
    "        else:\n",
    "            print('Down')\n",
    "            \n",
    "    print(f'횟수 초과입니다. 정답은 {num}였습니다.')\n",
    "    \n",
    "guess_number_game()"
   ]
  },
  {
   "cell_type": "code",
   "execution_count": 33,
   "id": "d92c625a",
   "metadata": {},
   "outputs": [
    {
     "name": "stdout",
     "output_type": "stream",
     "text": [
      "id : id\n",
      "pwd : pwd\n",
      "아이디를 확인하세요\n",
      "비밀버호를 확인하세요\n",
      "id : id123\n",
      "pwd : pwd123\n"
     ]
    }
   ],
   "source": [
    "id = 'id123'\n",
    "pwd = 'pwd123'\n",
    "\n",
    "while True:\n",
    "    input_id = input('id : ')\n",
    "    input_pwd = input('pwd : ')\n",
    "    \n",
    "    if id == input_id and pwd == input_pwd:\n",
    "        break\n",
    "    if id != input_id:\n",
    "        print(f'아이디를 확인하세요')\n",
    "    if pwd != input_pwd:\n",
    "        print(f'비밀버호를 확인하세요')"
   ]
  }
 ],
 "metadata": {
  "kernelspec": {
   "display_name": "Python 3 (ipykernel)",
   "language": "python",
   "name": "python3"
  },
  "language_info": {
   "codemirror_mode": {
    "name": "ipython",
    "version": 3
   },
   "file_extension": ".py",
   "mimetype": "text/x-python",
   "name": "python",
   "nbconvert_exporter": "python",
   "pygments_lexer": "ipython3",
   "version": "3.9.7"
  }
 },
 "nbformat": 4,
 "nbformat_minor": 5
}
