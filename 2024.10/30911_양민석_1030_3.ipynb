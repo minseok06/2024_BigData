{
 "cells": [
  {
   "cell_type": "markdown",
   "id": "9d7ab462",
   "metadata": {},
   "source": [
    "## 1144 : 비트 연산자(OR)\n",
    "두 수를 입력받아 비트단위로 OR연산한 후 결과를 출력하시오."
   ]
  },
  {
   "cell_type": "code",
   "execution_count": 1,
   "id": "1dcfb610",
   "metadata": {
    "scrolled": true
   },
   "outputs": [
    {
     "name": "stdout",
     "output_type": "stream",
     "text": [
      "3 5\n",
      "7\n"
     ]
    }
   ],
   "source": [
    "a, b = map(int, input().split())\n",
    "print(a|b)"
   ]
  },
  {
   "cell_type": "markdown",
   "id": "f9a44776",
   "metadata": {},
   "source": [
    "## 1147 : 비트 연산자(<<)\n",
    "정수 a, x를 입력받아 a의 값을 x만큼 SHIFT(<<) 연산한 후 결과를 출력하시오."
   ]
  },
  {
   "cell_type": "code",
   "execution_count": 3,
   "id": "e7a4de33",
   "metadata": {},
   "outputs": [
    {
     "name": "stdout",
     "output_type": "stream",
     "text": [
      "3 3\n",
      "24\n"
     ]
    }
   ],
   "source": [
    "a, x = map(int, input().split())\n",
    "print(a<<x)"
   ]
  },
  {
   "cell_type": "markdown",
   "id": "0b0ac5b1",
   "metadata": {},
   "source": [
    "## 1148 : 비트 연산자(>>)\n",
    "정수 a, x를 입력받아 a의 값을 x만큼 SHIFT(>>) 연산한 후 결과를 출력하시오."
   ]
  },
  {
   "cell_type": "code",
   "execution_count": 10,
   "id": "436a8215",
   "metadata": {},
   "outputs": [
    {
     "name": "stdout",
     "output_type": "stream",
     "text": [
      "4 1\n",
      "2\n"
     ]
    }
   ],
   "source": [
    "a, x = map(int, input().split())\n",
    "print(a>>x)"
   ]
  },
  {
   "cell_type": "markdown",
   "id": "fee4aa91",
   "metadata": {},
   "source": [
    "## 1149 : 두 수 중 큰 수\n",
    "두 정수 중 큰 정수를 출력한다."
   ]
  },
  {
   "cell_type": "code",
   "execution_count": 18,
   "id": "e37e001c",
   "metadata": {},
   "outputs": [
    {
     "name": "stdout",
     "output_type": "stream",
     "text": [
      "2 7\n",
      "7\n"
     ]
    }
   ],
   "source": [
    "a, b = map(int, input().split())\n",
    "\n",
    "if a > b:\n",
    "    print(a)\n",
    "else:\n",
    "    print(b)"
   ]
  },
  {
   "cell_type": "markdown",
   "id": "8f9ef6d7",
   "metadata": {},
   "source": [
    "## 1150 : 세 수 중 가장 작은 수\n",
    "세 정수가 주어지면 그 중 가장 작은 수를 출력한다."
   ]
  },
  {
   "cell_type": "code",
   "execution_count": 23,
   "id": "72b9e3de",
   "metadata": {},
   "outputs": [
    {
     "name": "stdout",
     "output_type": "stream",
     "text": [
      "3 5 2\n",
      "2\n"
     ]
    }
   ],
   "source": [
    "a, b, c = map(int, input().split())\n",
    "print(min(a,b,c))"
   ]
  }
 ],
 "metadata": {
  "kernelspec": {
   "display_name": "Python 3 (ipykernel)",
   "language": "python",
   "name": "python3"
  },
  "language_info": {
   "codemirror_mode": {
    "name": "ipython",
    "version": 3
   },
   "file_extension": ".py",
   "mimetype": "text/x-python",
   "name": "python",
   "nbconvert_exporter": "python",
   "pygments_lexer": "ipython3",
   "version": "3.9.7"
  }
 },
 "nbformat": 4,
 "nbformat_minor": 5
}
