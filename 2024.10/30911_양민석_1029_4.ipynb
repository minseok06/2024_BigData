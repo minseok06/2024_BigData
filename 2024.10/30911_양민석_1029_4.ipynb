{
 "cells": [
  {
   "cell_type": "markdown",
   "id": "bf7353d2",
   "metadata": {},
   "source": [
    "# 30911_양민석_1029_4"
   ]
  },
  {
   "cell_type": "markdown",
   "id": "e50585eb",
   "metadata": {},
   "source": [
    "## 1139 : 논리 연산자(AND)\n",
    "두 가지의 참(1) 또는 거짓(0)이 입력될 때, 모두 참일 때는 1이, 그렇지 않으면 0이 출력되는 프로그램을 작성해보자."
   ]
  },
  {
   "cell_type": "code",
   "execution_count": 21,
   "id": "66853591",
   "metadata": {},
   "outputs": [
    {
     "name": "stdout",
     "output_type": "stream",
     "text": [
      "1 0\n",
      "0\n"
     ]
    }
   ],
   "source": [
    "a, b = map(int, input().split())\n",
    "\n",
    "if a == 1 and b == 1:\n",
    "    print(1)\n",
    "else:\n",
    "    print(0)"
   ]
  },
  {
   "cell_type": "markdown",
   "id": "0004b067",
   "metadata": {},
   "source": [
    "## 1140 : 논리 연산자(OR)\n",
    "두 가지의 참(1) 또는 거짓(0)이 입력될 때, 둘 중 하나라도 참일 경우 1이, 그렇지 않으면 0이 출력되는 프로그램을 작성해보자."
   ]
  },
  {
   "cell_type": "code",
   "execution_count": 27,
   "id": "de792379",
   "metadata": {},
   "outputs": [
    {
     "name": "stdout",
     "output_type": "stream",
     "text": [
      "0 1\n",
      "1\n"
     ]
    }
   ],
   "source": [
    "a, b = map(int, input().split())\n",
    "\n",
    "if a == 1 or b == 1:\n",
    "    print(1)\n",
    "else:\n",
    "    print(0)"
   ]
  },
  {
   "cell_type": "markdown",
   "id": "2b7b2e8f",
   "metadata": {},
   "source": [
    "## 1143 : 비트 연산자(AND)\n",
    "두 수를 입력받아 비트단위로 AND연산한 후 결과를 출력하시오."
   ]
  },
  {
   "cell_type": "code",
   "execution_count": 30,
   "id": "b88b1702",
   "metadata": {},
   "outputs": [
    {
     "name": "stdout",
     "output_type": "stream",
     "text": [
      "3 5\n",
      "1\n"
     ]
    }
   ],
   "source": [
    "a, b = map(int, input().split())\n",
    "\n",
    "print(a&b)"
   ]
  }
 ],
 "metadata": {
  "kernelspec": {
   "display_name": "Python 3 (ipykernel)",
   "language": "python",
   "name": "python3"
  },
  "language_info": {
   "codemirror_mode": {
    "name": "ipython",
    "version": 3
   },
   "file_extension": ".py",
   "mimetype": "text/x-python",
   "name": "python",
   "nbconvert_exporter": "python",
   "pygments_lexer": "ipython3",
   "version": "3.9.7"
  }
 },
 "nbformat": 4,
 "nbformat_minor": 5
}
