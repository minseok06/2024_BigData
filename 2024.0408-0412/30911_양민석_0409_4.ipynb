{
 "cells": [
  {
   "cell_type": "markdown",
   "id": "6e76e3c4",
   "metadata": {},
   "source": [
    "# 30911_양민석_0409_4"
   ]
  },
  {
   "cell_type": "markdown",
   "id": "3c5d191e",
   "metadata": {},
   "source": [
    "## 조건문으로 간단한 프로그램 만들기"
   ]
  },
  {
   "cell_type": "code",
   "execution_count": 5,
   "id": "03bec619",
   "metadata": {},
   "outputs": [
    {
     "name": "stdout",
     "output_type": "stream",
     "text": [
      "나이가 어떻게 되시나요? : 20\n",
      "15000원 입니다.\n"
     ]
    }
   ],
   "source": [
    "# 목욕탕 가면 미성년자는 6000원 성인 15000원\n",
    "# 나이를 입력받아서 구분하는 프로그램을 만들어 보자\n",
    "\n",
    "age = int(input(\"나이가 어떻게 되시나요? : \"))\n",
    "\n",
    "if age < 20:\n",
    "    print('6000원 입니다.')\n",
    "else:\n",
    "    print('15000원 입니다.')"
   ]
  },
  {
   "cell_type": "code",
   "execution_count": 22,
   "id": "69b86e22",
   "metadata": {},
   "outputs": [
    {
     "name": "stdout",
     "output_type": "stream",
     "text": [
      "나이가 어떻게 되세요? : 20\n",
      "성인은 15000원 입니댜.\n",
      "금액을 투입해 주세요 --> 15000\n",
      "즐거운 이용 되세요^^\n"
     ]
    }
   ],
   "source": [
    "# 나이 구분\n",
    "# 금액 구분\n",
    "\n",
    "# 1단계\n",
    "age = int(input('나이가 어떻게 되세요? : '))\n",
    "\n",
    "if age >= 20:\n",
    "    print('성인은 15000원 입니댜.')\n",
    "    price = 15000\n",
    "else:\n",
    "    print('미성년자는 6000원 입니다.')\n",
    "    price = 6000\n",
    "    \n",
    "# 2단계 투입금액을 입력받아 입장료와 비교하기\n",
    "price_input = int(input('금액을 투입해 주세요 --> '))\n",
    "\n",
    "if price_input < price:\n",
    "    print(f'{price-price_input}원 더 내셔야 합니다.')\n",
    "elif price == price_input:\n",
    "    print('즐거운 이용 되세요^^')\n",
    "else:\n",
    "    print(f'{price_input-price}원 거슬러 드리겠습니다.')"
   ]
  },
  {
   "cell_type": "markdown",
   "id": "d4bc07a4",
   "metadata": {},
   "source": [
    "```\n",
    "어떤 메뉴가 궁금하신요? 라면\n",
    "기본라면: 3500원\n",
    "떡라면: 4000원\n",
    "만두라면: 4000원\n",
    "```"
   ]
  },
  {
   "cell_type": "code",
   "execution_count": 27,
   "id": "dc207568",
   "metadata": {},
   "outputs": [
    {
     "name": "stdout",
     "output_type": "stream",
     "text": [
      "메뉴 - 라면, 김밥\n",
      "어떤 메뉴가 궁금하신가요? 김밥\n",
      "야채김밥 : 3000원\n",
      "참치김밥 : 3000원\n",
      "치즈김밥 : 3000원\n"
     ]
    }
   ],
   "source": [
    "print('메뉴 - 라면, 김밥')\n",
    "menu = input('어떤 메뉴가 궁금하신가요? ')\n",
    "\n",
    "if menu == '라면':\n",
    "    print('기본라면: 3500원')\n",
    "    print('떡라면: 3500원')\n",
    "    print('만두라면: 3500원')\n",
    "elif menu == '김밥':\n",
    "    print('야채김밥 : 3000원')\n",
    "    print('참치김밥 : 3000원')\n",
    "    print('치즈김밥 : 3000원')\n",
    "else:\n",
    "    print('올바른 메뉴를 입력해 주세요')"
   ]
  }
 ],
 "metadata": {
  "kernelspec": {
   "display_name": "Python 3 (ipykernel)",
   "language": "python",
   "name": "python3"
  },
  "language_info": {
   "codemirror_mode": {
    "name": "ipython",
    "version": 3
   },
   "file_extension": ".py",
   "mimetype": "text/x-python",
   "name": "python",
   "nbconvert_exporter": "python",
   "pygments_lexer": "ipython3",
   "version": "3.9.7"
  }
 },
 "nbformat": 4,
 "nbformat_minor": 5
}
