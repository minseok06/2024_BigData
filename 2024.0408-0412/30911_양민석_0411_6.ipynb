{
 "cells": [
  {
   "cell_type": "markdown",
   "id": "ef526afb",
   "metadata": {},
   "source": [
    "# 30911_양민석_0411_6"
   ]
  },
  {
   "cell_type": "code",
   "execution_count": 40,
   "id": "8ec82129",
   "metadata": {},
   "outputs": [
    {
     "name": "stdout",
     "output_type": "stream",
     "text": [
      "점수 : 100\n",
      "A등급\n"
     ]
    }
   ],
   "source": [
    "# 등급을 구분하는 프로그램\n",
    "# 80점 이상이면 A 40점 이상이면 B 나머지 C등급 출력\n",
    "# 0 ~ 100 사이 이외의 숫자는 \"잘못된 숫자를 입력했습니다.\"\n",
    "\n",
    "# 입력설계\n",
    "a = int(input('점수 : '))\n",
    "\n",
    "# 올바른 숫자 범위가 맞는지 틀리는지 구분\n",
    "if a > 100 or a < 0:\n",
    "    print(f'잘못된 숫자를 입력했습니다.')\n",
    "# 80점 이상 A등급 출력\n",
    "elif a >= 80:\n",
    "    print(f'A등급')\n",
    "# 40점 이상 B등급 출력\n",
    "elif a >= 40:\n",
    "    print(f'B등급')\n",
    "# 나머지 C등급 출력\n",
    "else:\n",
    "    print(f'C등급')"
   ]
  },
  {
   "cell_type": "code",
   "execution_count": 41,
   "id": "eb60add3",
   "metadata": {},
   "outputs": [
    {
     "name": "stdout",
     "output_type": "stream",
     "text": [
      "점수 : 100\n",
      "A등급\n"
     ]
    }
   ],
   "source": [
    "score = int(input('점수 : '))\n",
    "\n",
    "if score < 0 or score > 100 :\n",
    "    print(f'잘못된 숫자를 입력했습니다.')\n",
    "else :\n",
    "    if score >= 80 :\n",
    "        print(f'A등급')\n",
    "    elif score >= 40 :\n",
    "        print(f'B등급')\n",
    "    else:\n",
    "        print(f'C등급')"
   ]
  },
  {
   "cell_type": "markdown",
   "id": "b8685340",
   "metadata": {},
   "source": [
    "# 5.1 범위 내에서 반복하기: for\n",
    "- ## 5.1.1 반복문이란"
   ]
  },
  {
   "cell_type": "code",
   "execution_count": 42,
   "id": "4b4d34d1",
   "metadata": {},
   "outputs": [
    {
     "name": "stdout",
     "output_type": "stream",
     "text": [
      "안녕하세요\n",
      "안녕하세요\n",
      "안녕하세요\n",
      "안녕하세요\n",
      "안녕하세요\n"
     ]
    }
   ],
   "source": [
    "for a in [1,2,3,4,5]:\n",
    "    print('안녕하세요')"
   ]
  },
  {
   "cell_type": "code",
   "execution_count": 43,
   "id": "1bf6222d",
   "metadata": {},
   "outputs": [
    {
     "name": "stdout",
     "output_type": "stream",
     "text": [
      "1 을(를) 저장 중입니다.\n",
      "2 을(를) 저장 중입니다.\n",
      "3 을(를) 저장 중입니다.\n",
      "4 을(를) 저장 중입니다.\n",
      "5 을(를) 저장 중입니다.\n"
     ]
    }
   ],
   "source": [
    "for a in [1,2,3,4,5]:\n",
    "    print(a,'을(를) 저장 중입니다.')"
   ]
  },
  {
   "cell_type": "code",
   "execution_count": 45,
   "id": "f36bfad8",
   "metadata": {},
   "outputs": [
    {
     "name": "stdout",
     "output_type": "stream",
     "text": [
      "9 안녕하세요\n",
      "8 안녕하세요\n",
      "7 안녕하세요\n",
      "6 안녕하세요\n",
      "5 안녕하세요\n",
      "4 안녕하세요\n",
      "3 안녕하세요\n",
      "2 안녕하세요\n",
      "1 안녕하세요\n",
      "0 안녕하세요\n"
     ]
    }
   ],
   "source": [
    "for a in [9,8,7,6,5,4,3,2,1,0]:\n",
    "    print(a, '안녕하세요')"
   ]
  },
  {
   "cell_type": "markdown",
   "id": "9451fed9",
   "metadata": {},
   "source": [
    "## 5.1.2 연속된 숫자를 range()로 간단하게 표현하기"
   ]
  },
  {
   "cell_type": "code",
   "execution_count": 50,
   "id": "29ce1635",
   "metadata": {},
   "outputs": [
    {
     "name": "stdout",
     "output_type": "stream",
     "text": [
      "1 선생님, 다시는 청소를 빼먹지 않겠습니다.\n",
      "2 선생님, 다시는 청소를 빼먹지 않겠습니다.\n",
      "3 선생님, 다시는 청소를 빼먹지 않겠습니다.\n",
      "4 선생님, 다시는 청소를 빼먹지 않겠습니다.\n",
      "5 선생님, 다시는 청소를 빼먹지 않겠습니다.\n",
      "6 선생님, 다시는 청소를 빼먹지 않겠습니다.\n",
      "7 선생님, 다시는 청소를 빼먹지 않겠습니다.\n",
      "8 선생님, 다시는 청소를 빼먹지 않겠습니다.\n",
      "9 선생님, 다시는 청소를 빼먹지 않겠습니다.\n",
      "10 선생님, 다시는 청소를 빼먹지 않겠습니다.\n",
      "11 선생님, 다시는 청소를 빼먹지 않겠습니다.\n",
      "12 선생님, 다시는 청소를 빼먹지 않겠습니다.\n",
      "13 선생님, 다시는 청소를 빼먹지 않겠습니다.\n",
      "14 선생님, 다시는 청소를 빼먹지 않겠습니다.\n",
      "15 선생님, 다시는 청소를 빼먹지 않겠습니다.\n",
      "16 선생님, 다시는 청소를 빼먹지 않겠습니다.\n",
      "17 선생님, 다시는 청소를 빼먹지 않겠습니다.\n",
      "18 선생님, 다시는 청소를 빼먹지 않겠습니다.\n",
      "19 선생님, 다시는 청소를 빼먹지 않겠습니다.\n",
      "20 선생님, 다시는 청소를 빼먹지 않겠습니다.\n"
     ]
    }
   ],
   "source": [
    "for a in range(1, 21):\n",
    "    print(a, '선생님, 다시는 청소를 빼먹지 않겠습니다.')"
   ]
  },
  {
   "cell_type": "code",
   "execution_count": 51,
   "id": "fe38abb6",
   "metadata": {},
   "outputs": [
    {
     "name": "stdout",
     "output_type": "stream",
     "text": [
      "1\n",
      "3\n",
      "5\n",
      "7\n",
      "9\n",
      "11\n",
      "13\n",
      "15\n",
      "17\n",
      "19\n"
     ]
    }
   ],
   "source": [
    "# range()에 간격추가하기\n",
    "for a in range(1, 20, 2):\n",
    "    print(a)"
   ]
  },
  {
   "cell_type": "code",
   "execution_count": 53,
   "id": "f092ecd6",
   "metadata": {},
   "outputs": [
    {
     "name": "stdout",
     "output_type": "stream",
     "text": [
      "5050\n"
     ]
    }
   ],
   "source": [
    "# 1부터 50까지 숫자의 합을 구하는 프로그램\n",
    "result = 0\n",
    "\n",
    "for i in range(1, 101):\n",
    "    result += i\n",
    "    \n",
    "print(result)"
   ]
  },
  {
   "cell_type": "markdown",
   "id": "a05dc39d",
   "metadata": {},
   "source": [
    "# 끝"
   ]
  }
 ],
 "metadata": {
  "kernelspec": {
   "display_name": "Python 3 (ipykernel)",
   "language": "python",
   "name": "python3"
  },
  "language_info": {
   "codemirror_mode": {
    "name": "ipython",
    "version": 3
   },
   "file_extension": ".py",
   "mimetype": "text/x-python",
   "name": "python",
   "nbconvert_exporter": "python",
   "pygments_lexer": "ipython3",
   "version": "3.9.7"
  }
 },
 "nbformat": 4,
 "nbformat_minor": 5
}
