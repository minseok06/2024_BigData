{
 "cells": [
  {
   "cell_type": "markdown",
   "id": "3cb86dc9",
   "metadata": {},
   "source": [
    "# 30911_양민석_0415_2"
   ]
  },
  {
   "cell_type": "markdown",
   "id": "d1f56de9",
   "metadata": {},
   "source": [
    "# 문제 93번\n",
    "정보 선생님은 수업을 시작하기 전에 이상한 출석을 부른다.\n",
    "\n",
    "학생들의 얼굴과 이름을 빨리 익히기 위해 번호를 무작위(랜덤)으로 부르는데,\n",
    "영일이는 선생님이 부른 번호들을 기억하고 있다가 거꾸로 불러보는 것을 해보고 싶어졌다.\n",
    "\n",
    "출석 번호를 n번 무작위로 불렀을 때, 부른 번호를 거꾸로 출력해 보자.\n",
    "\n",
    "예시\n",
    "...\n",
    "for i in range(n-1, -1, -1) :\n",
    "  print(a[i], end=' ')\n",
    "...\n",
    "\n",
    "참고\n",
    "번호를 부른 순서를 리스트에 순서대로 기록해 두었다가, 기록한 값들을 거꾸로 출력하면 된다.\n",
    "range(시작, 끝, 증감) #시작 수는 포함, 끝 수는 포함하지 않음. [시작, 끝)\n",
    "range(n-1, -1, -1) #n-1, n-2, ..., 3, 2, 1, 0"
   ]
  },
  {
   "cell_type": "code",
   "execution_count": 20,
   "id": "8b406d4f",
   "metadata": {},
   "outputs": [
    {
     "name": "stdout",
     "output_type": "stream",
     "text": [
      "10\n",
      "1 2 3 4 5 6 7 8 9 10\n",
      "10 9 8 7 6 5 4 3 2 1 "
     ]
    }
   ],
   "source": [
    "n = int(input())\n",
    "a = input().split()\n",
    "\n",
    "for i in range(n-1, -1, -1):\n",
    "    print(a[i], end=' ')"
   ]
  },
  {
   "cell_type": "markdown",
   "id": "ac3147aa",
   "metadata": {},
   "source": [
    "# 문제 94번\n",
    "정보 선생님은 오늘도 이상한 출석을 부른다.\n",
    "\n",
    "영일이는 오늘도 다른 생각을 해보았다.\n",
    "출석 번호를 다 부르지는 않은 것 같은데... 가장 빠른 번호가 뭐였지?\n",
    "\n",
    "출석 번호를 n번 무작위로 불렀을 때, 가장 빠른 번호를 출력해 보자.\n",
    "\n",
    "단, \n",
    "첫 번째 번호와 마지막 번호가 몇 번인지는 아무도 모른다.\n",
    "음수(-) 번호, 0번 번호도 있을 수 있다.\n",
    "\n",
    "참고\n",
    "리스트에 출석 번호를 기록해 두었다가, 그 중에서 가장 작은 값을 찾아내면 된다.\n",
    "그런데, 가장 작은 값은 어떻게 어떤 것과 비교하고, 어떻게 찾아야 할까?\n"
   ]
  },
  {
   "cell_type": "code",
   "execution_count": 122,
   "id": "3626de75",
   "metadata": {},
   "outputs": [
    {
     "name": "stdout",
     "output_type": "stream",
     "text": [
      "2\n",
      "2 1\n",
      "1\n"
     ]
    }
   ],
   "source": [
    "n = int(input())\n",
    "k = input().split()\n",
    "\n",
    "for i in range(n):\n",
    "    k[i] = int(k[i])\n",
    "    \n",
    "min = k[0]\n",
    "for i in range(0, n):\n",
    "    if k[i] < min:\n",
    "        min = k[i]\n",
    "        \n",
    "print(min)"
   ]
  },
  {
   "cell_type": "markdown",
   "id": "1a94b813",
   "metadata": {},
   "source": [
    "# 문제 95번\n",
    "기숙사 생활을 하는 학교에서 어떤 금요일(전원 귀가일)에는 모두 집으로 귀가를 한다.\n",
    "\n",
    "오랜만에 집에 간 영일이는 아버지와 함께 두던 매우 큰 오목에 대해서 생각해 보다가\n",
    "\"바둑판에 돌을 올린 것을 프로그래밍 할 수 있을까?\"하고 생각하였다.\n",
    "\n",
    "바둑판(19 * 19)에 n개의 흰 돌을 놓는다고 할 때,\n",
    "n개의 흰 돌이 놓인 위치를 출력하는 프로그램을 작성해보자.\n",
    "\n",
    "예시\n",
    "d=[]                        #대괄호 [ ] 를 이용해 아무것도 없는 빈 리스트 만들기\n",
    "for i in range(20) :\n",
    "  d.append([])         #리스트 안에 다른 리스트 추가해 넣기\n",
    "  for j in range(20) : \n",
    "    d[i].append(0)    #리스트 안에 들어있는 리스트 안에 0 추가해 넣기\n",
    "\n",
    "n = int(input())\n",
    "for i in range(n) :\n",
    "  x, y = input().split()\n",
    "  d[int(x)][int(y)] = 1\n",
    "\n",
    "for i in range(1, 20) :\n",
    "  for j in range(1, 20) : \n",
    "    print(d[i][j], end=' ')    #공백을 두고 한 줄로 출력\n",
    "  print()                          #줄 바꿈\n",
    "\n",
    "참고\n",
    "리스트가 들어있는 리스트를 만들면?\n",
    "가로번호, 세로번호를 사용해 2차원 형태의 데이터처럼 쉽게 기록하고 사용할 수 있다.\n",
    "리스트이름[번호][번호] 형식으로 저장되어있는 값을 읽고 쓸 수 있고, 더 확장한 n차원의 리스트도 만들 수 있다.\n",
    "\n",
    "...\n",
    "d=[]\n",
    "for i in range(20) : \n",
    "  d.append([])\n",
    "  for j in range(20) :  \n",
    "    d[i].append(0)\n",
    "... \n",
    "\n",
    "위와 같이, 모두 0이 채워진 2차원 리스트를 만드는 코드를 아래와 같은 방법으로 짧게 만들 수도 있다.\n",
    "... [0 for j in range(20)]  #20개의 0이 들어간 [0, 0, 0, ... , 0, 0, 0] 리스트 \n",
    "아래처럼 작성하면 위와 같은 리스트가 20개가 들어간 리스트를 한 번에 만들어 준다.\n",
    "\n",
    "d = [[0 for j in range(20)] for i in range(20)]\n",
    "\n",
    "이러한 리스트 생성 방식을 List Comprehensions 라고 한다."
   ]
  },
  {
   "cell_type": "code",
   "execution_count": 126,
   "id": "084cb4ff",
   "metadata": {},
   "outputs": [
    {
     "name": "stdout",
     "output_type": "stream",
     "text": [
      "2\n",
      "1 1\n",
      "2 2\n",
      "1 0 0 0 0 0 0 0 0 0 0 0 0 0 0 0 0 0 0 \n",
      "0 1 0 0 0 0 0 0 0 0 0 0 0 0 0 0 0 0 0 \n",
      "0 0 0 0 0 0 0 0 0 0 0 0 0 0 0 0 0 0 0 \n",
      "0 0 0 0 0 0 0 0 0 0 0 0 0 0 0 0 0 0 0 \n",
      "0 0 0 0 0 0 0 0 0 0 0 0 0 0 0 0 0 0 0 \n",
      "0 0 0 0 0 0 0 0 0 0 0 0 0 0 0 0 0 0 0 \n",
      "0 0 0 0 0 0 0 0 0 0 0 0 0 0 0 0 0 0 0 \n",
      "0 0 0 0 0 0 0 0 0 0 0 0 0 0 0 0 0 0 0 \n",
      "0 0 0 0 0 0 0 0 0 0 0 0 0 0 0 0 0 0 0 \n",
      "0 0 0 0 0 0 0 0 0 0 0 0 0 0 0 0 0 0 0 \n",
      "0 0 0 0 0 0 0 0 0 0 0 0 0 0 0 0 0 0 0 \n",
      "0 0 0 0 0 0 0 0 0 0 0 0 0 0 0 0 0 0 0 \n",
      "0 0 0 0 0 0 0 0 0 0 0 0 0 0 0 0 0 0 0 \n",
      "0 0 0 0 0 0 0 0 0 0 0 0 0 0 0 0 0 0 0 \n",
      "0 0 0 0 0 0 0 0 0 0 0 0 0 0 0 0 0 0 0 \n",
      "0 0 0 0 0 0 0 0 0 0 0 0 0 0 0 0 0 0 0 \n",
      "0 0 0 0 0 0 0 0 0 0 0 0 0 0 0 0 0 0 0 \n",
      "0 0 0 0 0 0 0 0 0 0 0 0 0 0 0 0 0 0 0 \n",
      "0 0 0 0 0 0 0 0 0 0 0 0 0 0 0 0 0 0 0 \n"
     ]
    }
   ],
   "source": [
    "d=[]                        #대괄호 [ ] 를 이용해 아무것도 없는 빈 리스트 만들기\n",
    "for i in range(20) :\n",
    "    d.append([])         #리스트 안에 다른 리스트 추가해 넣기\n",
    "    for j in range(20) : \n",
    "        d[i].append(0)    #리스트 안에 들어있는 리스트 안에 0 추가해 넣기\n",
    "\n",
    "n = int(input())\n",
    "for i in range(n) :\n",
    "    x, y = input().split()\n",
    "    d[int(x)][int(y)] = 1\n",
    "\n",
    "for i in range(1, 20) :\n",
    "    for j in range(1, 20) : \n",
    "        print(d[i][j], end=' ')    #공백을 두고 한 줄로 출력\n",
    "    print()"
   ]
  }
 ],
 "metadata": {
  "kernelspec": {
   "display_name": "Python 3 (ipykernel)",
   "language": "python",
   "name": "python3"
  },
  "language_info": {
   "codemirror_mode": {
    "name": "ipython",
    "version": 3
   },
   "file_extension": ".py",
   "mimetype": "text/x-python",
   "name": "python",
   "nbconvert_exporter": "python",
   "pygments_lexer": "ipython3",
   "version": "3.9.7"
  }
 },
 "nbformat": 4,
 "nbformat_minor": 5
}
