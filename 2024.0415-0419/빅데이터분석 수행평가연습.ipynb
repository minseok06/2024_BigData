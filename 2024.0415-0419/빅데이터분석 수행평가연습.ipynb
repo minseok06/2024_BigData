{
 "cells": [
  {
   "cell_type": "markdown",
   "id": "bc7fcccd",
   "metadata": {},
   "source": [
    "# 예상문제 1\n",
    "1부터 1000까지 숫자 중에서 2의 배수이거나 3의 배수면 더하는 프로그램"
   ]
  },
  {
   "cell_type": "code",
   "execution_count": 4,
   "id": "ee9a7a65",
   "metadata": {},
   "outputs": [
    {
     "name": "stdout",
     "output_type": "stream",
     "text": [
      "1부터 100까지 숫자 중에서 2의 배수이거나 3의 배수면 더하는 프로그램\n",
      "334167\n"
     ]
    }
   ],
   "source": [
    "print('1부터 100까지 숫자 중에서 2의 배수이거나 3의 배수면 더하는 프로그램')\n",
    "\n",
    "res = 0 # 결과를 저장할 변수를 초기화합니다.\n",
    "num = 1 # 시작 숫자를 1로 설정합니다.\n",
    "\n",
    "# 1부터 1000까지의 숫자를 반복하면서 조건을 검사합니다.\n",
    "while num <= 1000:\n",
    "    # 만약 현재 숫자가 2의 배수이거나 3의 배수라면\n",
    "    if num % 2 == 0 or num % 3 == 0:\n",
    "        res += num # 결과 변수에 현재 숫자를 더합니다.\n",
    "    num += 1 # 다음 숫자로 넘어갑니다.\n",
    "    \n",
    "print(res) # 결과를 출력합니다."
   ]
  },
  {
   "cell_type": "markdown",
   "id": "2a990fc4",
   "metadata": {},
   "source": [
    "# 예상문제 2\n",
    "구구단을 외자 게임 만들기"
   ]
  },
  {
   "cell_type": "code",
   "execution_count": 22,
   "id": "31138c8d",
   "metadata": {
    "scrolled": true
   },
   "outputs": [
    {
     "name": "stdout",
     "output_type": "stream",
     "text": [
      "구구단을 외자! 구구단을 외자! \n",
      "5X8 = ? \n",
      "440\n",
      "틀렸어요!\n",
      "7X3 = ? \n",
      "21\n",
      "정답\n",
      "5X2 = ? \n",
      "10\n",
      "정답\n",
      "7X5 = ? \n",
      "35\n",
      "정답\n",
      "4X6 = ? \n",
      "24\n",
      "정답\n",
      "6X7 = ? \n",
      "42\n",
      "정답\n",
      "5X3 = ? \n",
      "15\n",
      "정답\n",
      "2X4 = ? \n",
      "6\n",
      "틀렸어요!\n",
      "4X5 = ? \n",
      "20\n",
      "정답\n",
      "9X9 = ? \n",
      "81\n",
      "정답\n",
      "맞춘 횟수 : 8, 틀린 횟수: 2\n"
     ]
    }
   ],
   "source": [
    "import random # 랜덤 라이브러리 불러오기\n",
    "\n",
    "# 사용자에게 구구단을 외라는 메세지를 출력합니다.\n",
    "print('구구단을 외자! '*2)\n",
    "\n",
    "# 맞은 횟수와 틀린 횟수를 저장할 변수를 초기화합니다.\n",
    "t_cnt = 0\n",
    "f_cnt = 0\n",
    "\n",
    "# 10번 반복하여 구구단 문제를 출제합니다.\n",
    "for i in range(10):\n",
    "    a = random.randint(2, 9) # 2에서 9까지의 임의의 숫자를 선택하여 단을 결정\n",
    "    b = random.randint(1, 9) # 1에서 9까지의 임의의 숫자를 선택하여 곱을 결정\n",
    "    print('{}X{} = ? '.format(a,b)) # 문제를 출력\n",
    "    answer = int(input()) # 사용자로부터 답을 입력받기\n",
    "    \n",
    "    if a*b == answer: # 사용자의 답과 정답을 비교하여 결과를 출력\n",
    "        print('정답')\n",
    "        t_cnt = t_cnt +1 # 맞은 횟수 +1 증가\n",
    "    else:\n",
    "        print('틀렸어요!')\n",
    "        f_cnt += 1 # 틀린 횟수 +1 증가\n",
    "        \n",
    "# 최종적으로 맞은 횟수와 틀린 횟수를 출력5\n",
    "print('맞춘 횟수 : {}, 틀린 횟수: {}'.format(t_cnt, f_cnt))"
   ]
  },
  {
   "cell_type": "markdown",
   "id": "7f4c31f2",
   "metadata": {},
   "source": [
    "# 예상문제 3\n",
    "월별 수입액을 입력받고, 총액과 평균을 알려주는 프로그램"
   ]
  },
  {
   "cell_type": "code",
   "execution_count": 32,
   "id": "8ed03449",
   "metadata": {
    "scrolled": true
   },
   "outputs": [
    {
     "name": "stdout",
     "output_type": "stream",
     "text": [
      "월 별로 수입액을 입력시켜 주세요!\n",
      "1 월의 수입은? \n",
      "500\n",
      "2 월의 수입은? \n",
      "500\n",
      "3 월의 수입은? \n",
      "500\n",
      "4 월의 수입은? \n",
      "500\n",
      "5 월의 수입은? \n",
      "500\n",
      "6 월의 수입은? \n",
      "500\n",
      "상반기 월별 수입액 입니다.\n",
      "상반기 최종 수입액 : 3000만원\n",
      "상반기 월 평균액 : 500.0만원\n"
     ]
    }
   ],
   "source": [
    "money = [] # 월별 수입을 저장할 리스트를 초기화\n",
    "print('월 별로 수입액을 입력시켜 주세요!')\n",
    "for j in range(0, 6):\n",
    "    print((j+1), '월의 수입은? ')\n",
    "    money.append(int(input())) # 사용자로부터 수입을 입력 받아 리스트에 추가\n",
    "    \n",
    "sum = 0 # 총 수입 저장할 변수 초기화\n",
    "i = 0\n",
    "\n",
    "print('상반기 월별 수입액 입니다.')\n",
    "\n",
    "while i<6:\n",
    "    sum = money[i] + sum # 리스트의 각 항목을 더해 총 수입을 계산합니다.\n",
    "    i = i+1\n",
    "    \n",
    "avg = sum/6 # 평균을 계산합니다.\n",
    "print('상반기 최종 수입액 : {}만원'.format(sum))\n",
    "print('상반기 월 평균액 : {}만원'.format(avg))"
   ]
  },
  {
   "cell_type": "markdown",
   "id": "3c125066",
   "metadata": {},
   "source": [
    "# 예상문제 4\n",
    "무작위로 입력된 점수 리스트에서 70점 이상인 번호의 값 출력하기"
   ]
  },
  {
   "cell_type": "code",
   "execution_count": 38,
   "id": "746b6590",
   "metadata": {},
   "outputs": [
    {
     "name": "stdout",
     "output_type": "stream",
     "text": [
      "리스트에서 점수가 70점 이상인 번호와 값 출력하기\n",
      "2 번 84\n",
      "10 번 75\n",
      "11 번 79\n",
      "18 번 88\n",
      "20 번 95\n",
      "23 번 76\n"
     ]
    }
   ],
   "source": [
    "import random # 랜덤 라이브러리 불러오기\n",
    "score = [] # 점수를 저장할 리스트를 초기화합니다.\n",
    "\n",
    "# 25명의 아이들에게 무작위로 점수를 부여합니다.\n",
    "for i in range(0, 25):\n",
    "    score.append(random.randint(0,100))\n",
    "    \n",
    "print('리스트에서 점수가 70점 이상인 번호와 값 출력하기')\n",
    "\n",
    "# 리스트에서 70점 이상의 점수를 가진 학생들의 번호와 점수를 출력합니다.\n",
    "for s in score:\n",
    "    if s >= 70:\n",
    "        print(score.index(s)+1,'번',s)\n",
    "        # 인덱스 값이 0부터 시작하니까 1의 값을 부여"
   ]
  },
  {
   "cell_type": "markdown",
   "id": "42b385ae",
   "metadata": {},
   "source": [
    "# 예상문제 5\n",
    "지하철 게임 만들기"
   ]
  },
  {
   "cell_type": "code",
   "execution_count": 39,
   "id": "4a2702eb",
   "metadata": {},
   "outputs": [
    {
     "name": "stdout",
     "output_type": "stream",
     "text": [
      "지하철~♪♬지하철~♪♬지하철~♪♬지하철~♪♬\n",
      "몇호선? 팔호선\n",
      "모란\n",
      "수진\n",
      "신흥\n",
      "단대오거리\n",
      "끝\n",
      "땡! 해당 역은 팔호선 이 압니다!\n",
      "벌칙 당첨!!\n"
     ]
    }
   ],
   "source": [
    "신분당선 = ['광교','광교중앙','상현','성복','수지구청','동천','미금','정자',\n",
    "       '판교','청계산입구','양재시민의숲','양재','강남']\n",
    "팔호선 = ['모란','수진','신흥','단대오거리','남한산성입구','산성','남위례','복정',\n",
    "      '장지','문정','가락시장','송파','석촌','잠실','몽촌토성','강동구청','천호','암사']\n",
    "\n",
    "print('지하철~♪♬'*4)\n",
    "\n",
    "# 사용자로부터 호선을 입력받습니다.\n",
    "호선 = input('몇호선? ')\n",
    "\n",
    "# 입력된 호선에 따라 해당 호선의 역이름을 입력받고, 입력된 역이 해당 호선에 속하는지 확인힙니다.\n",
    "for i in range(10):\n",
    "    if 호선 == '신분당선':\n",
    "        입력 = input()\n",
    "        if 입력 not in 신분당선:\n",
    "            print('땡! 해당 역은', 호선, '이 아닙니다!')\n",
    "            print('벌칙 당첨!!')\n",
    "            break\n",
    "    elif 호선 == '팔호선':\n",
    "        입력 = input()\n",
    "        if 입력 not in 팔호선:\n",
    "            print('땡! 해당 역은', 호선, '이 압니다!')\n",
    "            print('벌칙 당첨!!')\n",
    "            break"
   ]
  }
 ],
 "metadata": {
  "kernelspec": {
   "display_name": "Python 3 (ipykernel)",
   "language": "python",
   "name": "python3"
  },
  "language_info": {
   "codemirror_mode": {
    "name": "ipython",
    "version": 3
   },
   "file_extension": ".py",
   "mimetype": "text/x-python",
   "name": "python",
   "nbconvert_exporter": "python",
   "pygments_lexer": "ipython3",
   "version": "3.9.7"
  }
 },
 "nbformat": 4,
 "nbformat_minor": 5
}
