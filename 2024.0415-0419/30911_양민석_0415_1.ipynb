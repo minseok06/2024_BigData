{
 "cells": [
  {
   "cell_type": "markdown",
   "id": "07c0d253",
   "metadata": {},
   "source": [
    "# 30911_양민석_0415_1"
   ]
  },
  {
   "cell_type": "code",
   "execution_count": 15,
   "id": "689e91cf",
   "metadata": {},
   "outputs": [
    {
     "name": "stdout",
     "output_type": "stream",
     "text": [
      "6275\n"
     ]
    }
   ],
   "source": [
    "# 반복문을 이용하여 101부터 150까지 합을 구하는 프로그램 작성\n",
    "\n",
    "# 결과용 변수 만들고 초기화\n",
    "result = 0\n",
    "\n",
    "for i in range(101, 151):\n",
    "    result += i\n",
    "\n",
    "print(result)"
   ]
  },
  {
   "cell_type": "code",
   "execution_count": 31,
   "id": "02166c1e",
   "metadata": {},
   "outputs": [
    {
     "name": "stdout",
     "output_type": "stream",
     "text": [
      "30414093201713378043612608166064768844377641568960512000000000000\n"
     ]
    }
   ],
   "source": [
    "# 1부터 50까지 곱하는 프로그램 작성\n",
    "\n",
    "# 결과용 변수 만들고 초기화\n",
    "result2 = 1\n",
    "\n",
    "for i in range(1, 51):\n",
    "    result2 *= i\n",
    "    \n",
    "print(result2)"
   ]
  },
  {
   "cell_type": "code",
   "execution_count": 44,
   "id": "f7c2c80a",
   "metadata": {},
   "outputs": [
    {
     "name": "stdout",
     "output_type": "stream",
     "text": [
      "몇 단을 외울까요? : 9\n",
      "9 X 1 = 9\n",
      "9 X 2 = 18\n",
      "9 X 3 = 27\n",
      "9 X 4 = 36\n",
      "9 X 5 = 45\n",
      "9 X 6 = 54\n",
      "9 X 7 = 63\n",
      "9 X 8 = 72\n",
      "9 X 9 = 81\n"
     ]
    }
   ],
   "source": [
    "# 구구단 출력하기\n",
    "# 입력값 설계\n",
    "num = int(input('몇 단을 외울까요? : '))\n",
    "# 출력값 설계\n",
    "\n",
    "for i in range(1, 10):\n",
    "    print(f'{num} X {i} = {num*i}')"
   ]
  },
  {
   "cell_type": "markdown",
   "id": "b0b18bb5",
   "metadata": {},
   "source": [
    "# random 라이브러리"
   ]
  },
  {
   "cell_type": "code",
   "execution_count": 47,
   "id": "15214f81",
   "metadata": {},
   "outputs": [
    {
     "name": "stdout",
     "output_type": "stream",
     "text": [
      "0.2888631670464984\n"
     ]
    }
   ],
   "source": [
    "# random 임의의 숫자\n",
    "\n",
    "# 라이브러리 libary\n",
    "import random\n",
    "\n",
    "print(random.random())"
   ]
  },
  {
   "cell_type": "code",
   "execution_count": 51,
   "id": "281ad72b",
   "metadata": {},
   "outputs": [
    {
     "name": "stdout",
     "output_type": "stream",
     "text": [
      "9\n"
     ]
    }
   ],
   "source": [
    "import random\n",
    "# 랜덤 범위를 저장한다.\n",
    "print(random.randrange(1,10))"
   ]
  },
  {
   "cell_type": "code",
   "execution_count": 57,
   "id": "ce6da88e",
   "metadata": {},
   "outputs": [
    {
     "name": "stdout",
     "output_type": "stream",
     "text": [
      "6\n",
      "1\n",
      "1\n",
      "3\n",
      "0\n",
      "10\n",
      "2\n",
      "9\n",
      "7\n",
      "8\n"
     ]
    }
   ],
   "source": [
    "import random\n",
    "# 랜덤 숫자 10개를 출력한다.\n",
    "for i in range(10):\n",
    "    print(random.randint(0,10))"
   ]
  },
  {
   "cell_type": "markdown",
   "id": "5dfcd0a0",
   "metadata": {},
   "source": [
    "# 구구단 외우기 게임 1"
   ]
  },
  {
   "cell_type": "code",
   "execution_count": 62,
   "id": "da35accc",
   "metadata": {},
   "outputs": [
    {
     "name": "stdout",
     "output_type": "stream",
     "text": [
      "구구단 외자~~구구단 외자~~\n",
      "7 X 4 은? 28\n",
      "3 X 2 은? 6\n",
      "4 X 2 은? 8\n",
      "2 X 5 은? 10\n",
      "8 X 3 은? 24\n",
      "4 X 2 은? 8\n",
      "8 X 6 은? 48\n",
      "4 X 4 은? 16\n",
      "9 X 6 은? 54\n",
      "3 X 4 은? 12\n"
     ]
    }
   ],
   "source": [
    "import random\n",
    "\n",
    "print('구구단 외자~~'*2)\n",
    "\n",
    "for i in range(10) :\n",
    "    a = random.randint(2,9)\n",
    "    b = random.randint(1,9)\n",
    "    print(f'{a} X {b} 은? {a*b}')"
   ]
  },
  {
   "cell_type": "markdown",
   "id": "9ca028ca",
   "metadata": {},
   "source": [
    "# 구구단 외우기 게임 2\n",
    "- ## 정답 입력 받기"
   ]
  },
  {
   "cell_type": "code",
   "execution_count": 68,
   "id": "cd776061",
   "metadata": {},
   "outputs": [
    {
     "name": "stdout",
     "output_type": "stream",
     "text": [
      "구구단 외자~~구구단 외자~~\n",
      "4 X 4 은? 3\n",
      "3 X 6 은? 3\n",
      "2 X 5 은? 3\n"
     ]
    }
   ],
   "source": [
    "import random\n",
    "\n",
    "print('구구단 외자~~'*2)\n",
    "\n",
    "for i in range(3):\n",
    "    a = random.randint(2,9)\n",
    "    b = random.randint(1,9)\n",
    "    question = str(a) + ' X ' + str(b) + ' 은? '\n",
    "    input(question)"
   ]
  },
  {
   "cell_type": "markdown",
   "id": "fea842e8",
   "metadata": {},
   "source": [
    "# 구구단 외우기 게임 3\n",
    "- ## 정답 입력이 맞다 틀리다를 구분"
   ]
  },
  {
   "cell_type": "code",
   "execution_count": 80,
   "id": "0fb67f4b",
   "metadata": {},
   "outputs": [
    {
     "name": "stdout",
     "output_type": "stream",
     "text": [
      "구구단 외자~~구구단 외자~~\n",
      "6 X 3 은? 9\n",
      "틀렸습니다\n",
      "9 X 7 은? 63\n",
      "맞았습니다!\n",
      "3 X 9 은? 27\n",
      "맞았습니다!\n"
     ]
    }
   ],
   "source": [
    "import random\n",
    "\n",
    "print('구구단 외자~~'*2)\n",
    "\n",
    "for i in range(3):\n",
    "    a = random.randint(2,9)\n",
    "    b = random.randint(1,9)\n",
    "    question = input(f'{a} X {b} 은? ')\n",
    "    answer = int(question)\n",
    "    if answer != a*b:\n",
    "        print('틀렸습니다')\n",
    "    else:\n",
    "        print('맞았습니다!')"
   ]
  },
  {
   "cell_type": "code",
   "execution_count": null,
   "id": "b75739c9",
   "metadata": {},
   "outputs": [],
   "source": []
  }
 ],
 "metadata": {
  "kernelspec": {
   "display_name": "Python 3 (ipykernel)",
   "language": "python",
   "name": "python3"
  },
  "language_info": {
   "codemirror_mode": {
    "name": "ipython",
    "version": 3
   },
   "file_extension": ".py",
   "mimetype": "text/x-python",
   "name": "python",
   "nbconvert_exporter": "python",
   "pygments_lexer": "ipython3",
   "version": "3.9.7"
  }
 },
 "nbformat": 4,
 "nbformat_minor": 5
}
