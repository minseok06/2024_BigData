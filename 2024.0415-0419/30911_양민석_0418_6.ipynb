{
 "cells": [
  {
   "cell_type": "markdown",
   "id": "610ff999",
   "metadata": {},
   "source": [
    "# 30911_양민석_0418_6"
   ]
  },
  {
   "cell_type": "code",
   "execution_count": 6,
   "id": "a5ba930a",
   "metadata": {
    "scrolled": true
   },
   "outputs": [
    {
     "name": "stdout",
     "output_type": "stream",
     "text": [
      "월 별로 수입액을 입력시켜 주세요!\n",
      "1 월의 수입액을 입력시켜 주세요\n",
      "1000\n",
      "2 월의 수입액을 입력시켜 주세요\n",
      "1000\n",
      "3 월의 수입액을 입력시켜 주세요\n",
      "1000\n",
      "4 월의 수입액을 입력시켜 주세요\n",
      "1000\n",
      "5 월의 수입액을 입력시켜 주세요\n",
      "1000\n",
      "6 월의 수입액을 입력시켜 주세요\n",
      "1000\n",
      "상반기 월별 수입액 입니다.\n",
      "상반기 월 수입액의 총액은 6000 만원 입니다.\n",
      "상반기 월 수입액의 평균은 1000.0 만원 입니다.\n"
     ]
    }
   ],
   "source": [
    "money = []\n",
    "print('월 별로 수입액을 입력시켜 주세요!')\n",
    "for j in range(0,6):\n",
    "    print((j+1), '월의 수입액을 입력시켜 주세요')\n",
    "    money.append(int(input('')))\n",
    "sum = 0\n",
    "i = 0\n",
    "print('상반기 월별 수입액 입니다.')\n",
    "while i<6 :\n",
    "    sum = money[i] + sum\n",
    "    i = i+1\n",
    "avg = sum/6\n",
    "print('상반기 월 수입액의 총액은',sum,'만원 입니다.')\n",
    "print('상반기 월 수입액의 평균은',avg,'만원 입니다.')"
   ]
  },
  {
   "cell_type": "code",
   "execution_count": 8,
   "id": "66870b7f",
   "metadata": {
    "scrolled": true
   },
   "outputs": [
    {
     "name": "stdout",
     "output_type": "stream",
     "text": [
      "월 별로 수입액을 입력시켜 주세요!\n",
      "1 월의 수입액을 입력시켜 주세요\n",
      "1200\n",
      "2 월의 수입액을 입력시켜 주세요\n",
      "1000\n",
      "3 월의 수입액을 입력시켜 주세요\n",
      "1000\n",
      "4 월의 수입액을 입력시켜 주세요\n",
      "8000\n",
      "5 월의 수입액을 입력시켜 주세요\n",
      "550\n",
      "6 월의 수입액을 입력시켜 주세요\n",
      "600\n",
      "상반기 월별 수입액 입니다.\n",
      "상반기 월 수입액의 총액은 12350만원 입니다.\n",
      "상반기 월 수입액의 평균은 2058.3333333333335만원 입니다.\n"
     ]
    }
   ],
   "source": [
    "money = [] # 월별 수입을 저장할 리스트를 초기화합니다.\n",
    "print('월 별로 수입액을 입력시켜 주세요!')\n",
    "for j in range(0,6):\n",
    "    print((j+1), '월의 수입액을 입력시켜 주세요')\n",
    "    money.append(int(input(''))) # 사용자로부터 수입을 입력 받아 리스트에 추가합니다.\n",
    "\n",
    "sum = 0 # 총 수입을 저장할 변수를 초기화합니다.\n",
    "i = 0\n",
    "print('상반기 월별 수입액 입니다.')\n",
    "while i<6 :\n",
    "    sum = money[i] + sum # 리스트의 각 항목을 더해 총 수입을 계산합니다.\n",
    "    i = i+1\n",
    "    \n",
    "avg = sum/6 # 평균을 계산합니다.\n",
    "print(f'상반기 월 수입액의 총액은 {sum}만원 입니다.')\n",
    "print(f'상반기 월 수입액의 평균은 {avg}만원 입니다.')"
   ]
  },
  {
   "cell_type": "markdown",
   "id": "73fb6904",
   "metadata": {},
   "source": [
    "# 예상문제4 : 무작위로 입력된 점수 리스트에서 70점 이상인 번호의 값 출력하기"
   ]
  },
  {
   "cell_type": "code",
   "execution_count": 12,
   "id": "00b28f56",
   "metadata": {
    "scrolled": true
   },
   "outputs": [
    {
     "name": "stdout",
     "output_type": "stream",
     "text": [
      "리스트에서 점수가 70점 이상인 번호와 값 출력하기\n",
      "1 번 94\n",
      "2 번 91\n",
      "3 번 82\n",
      "7 번 84\n",
      "10 번 77\n",
      "2 번 91\n",
      "13 번 74\n",
      "17 번 89\n",
      "19 번 99\n",
      "2 번 91\n",
      "22 번 72\n",
      "24 번 90\n",
      "25 번 97\n"
     ]
    }
   ],
   "source": [
    "import random\n",
    "score = []\n",
    "for i in range(0,25) :\n",
    "    score.append(random.randint(0,100))\n",
    "print('리스트에서 점수가 70점 이상인 번호와 값 출력하기')\n",
    "for s in score:\n",
    "    if s>=70:\n",
    "        print(score.index(s)+1,'번',s)"
   ]
  },
  {
   "cell_type": "code",
   "execution_count": 108,
   "id": "ceb6675d",
   "metadata": {
    "scrolled": true
   },
   "outputs": [
    {
     "name": "stdout",
     "output_type": "stream",
     "text": [
      "리스트에서 점수가 70점 이상인 번호와 값 출력하기\n",
      "5 번 92\n",
      "6 번 81\n",
      "8 번 86\n",
      "5 번 92\n",
      "12 번 71\n",
      "16 번 95\n",
      "18 번 74\n",
      "20 번 82\n",
      "16 번 95\n"
     ]
    }
   ],
   "source": [
    "import random # 랜덤 라이브러리 불러오기\n",
    "score = [] # 점수를 저장할 리스트를 초기화합니다.\n",
    "\n",
    "# 25명의 아이들에게 무작위로 점수를 부여합니다.\n",
    "for i in range(0,25) :\n",
    "    score.append(random.randint(0,100))\n",
    "print('리스트에서 점수가 70점 이상인 번호와 값 출력하기')\n",
    "\n",
    "# 리스트에서 70점 이상인 점수를 가진 학생들의 번호와 점수를 출력합니다.\n",
    "for s in score:\n",
    "    if s>=70:\n",
    "        print(score.index(s)+1,'번',s) # 인덱스 값이 0부터 시작하니까 1의 값을 부여"
   ]
  },
  {
   "cell_type": "markdown",
   "id": "0effb66a",
   "metadata": {},
   "source": [
    "# 예상문제5 : 지하철 게임 만들기"
   ]
  },
  {
   "cell_type": "code",
   "execution_count": 120,
   "id": "e5418e2f",
   "metadata": {},
   "outputs": [
    {
     "name": "stdout",
     "output_type": "stream",
     "text": [
      "지하철~♪♬지하철~♪♬지하철~♪♬지하철~♪♬\n",
      "몇호선? 팔호선\n",
      "모란\n",
      "수진\n",
      "신흥\n",
      "단대오거리\n",
      "남한산성입구\n",
      "산성\n",
      "남위례\n",
      "복정\n",
      "장지\n",
      "문정\n"
     ]
    }
   ],
   "source": [
    "신분당선 = ['광교','광교중앙','상현','성복','수지구청','동천','미금','정자',\n",
    "       '판교','청계산입구','양재시민의숲','양재','강남']\n",
    "팔호선 = ['모란','수진','신흥','단대오거리','남한산성입구','산성','남위례','복정',\n",
    "      '장지','문정','가락시장','송파','석촌','잠실','몽촌토성','강동구청','천호','암사']\n",
    "\n",
    "print('지하철~♪♬'*4)\n",
    "호선 = input('몇호선? ')\n",
    "for i in range(10):\n",
    "    if 호선 == '신분당선':\n",
    "        입력 = input()\n",
    "        if 입력 not in 신분당선:\n",
    "            print('땡! 해당 역은', 호선, '이 아닙니다!')\n",
    "            print('벌칙 당첨!!')\n",
    "            break\n",
    "    elif 호선 == '팔호선':\n",
    "        입력 = input()\n",
    "        if 입력 not in 팔호선:\n",
    "            print('땡! 해당 역은', 호선, '이 압니다!')\n",
    "            print('벌칙 당첨!!')\n",
    "            break"
   ]
  },
  {
   "cell_type": "code",
   "execution_count": 121,
   "id": "97b5f7e4",
   "metadata": {},
   "outputs": [
    {
     "name": "stdout",
     "output_type": "stream",
     "text": [
      "지하철~♪♬지하철~♪♬지하철~♪♬지하철~♪♬\n",
      "몇호선? 신분당선\n",
      "광교\n",
      "광교중앙\n",
      "어\n",
      "땡! 해당 역은 신분당선 이 아닙니다!\n",
      "벌칙 당첨!!\n"
     ]
    }
   ],
   "source": [
    "신분당선 = ['광교','광교중앙','상현','성복','수지구청','동천','미금','정자',\n",
    "       '판교','청계산입구','양재시민의숲','양재','강남']\n",
    "팔호선 = ['모란','수진','신흥','단대오거리','남한산성입구','산성','남위례','복정',\n",
    "      '장지','문정','가락시장','송파','석촌','잠실','몽촌토성','강동구청','천호','암사']\n",
    "\n",
    "print('지하철~♪♬'*4)\n",
    "\n",
    "# 사용자로부터 호선을 입력받습니다.\n",
    "호선 = input('몇호선? ')\n",
    "\n",
    "# 입력된 호선에 따라 해당 호선의 역이름을 입력받고, 입력된 역이 해당 호선에 속하는지 확인힙니다.\n",
    "for i in range(10):\n",
    "    if 호선 == '신분당선':\n",
    "        입력 = input()\n",
    "        if 입력 not in 신분당선:\n",
    "            print('땡! 해당 역은', 호선, '이 아닙니다!')\n",
    "            print('벌칙 당첨!!')\n",
    "            break\n",
    "    elif 호선 == '팔호선':\n",
    "        입력 = input()\n",
    "        if 입력 not in 팔호선:\n",
    "            print('땡! 해당 역은', 호선, '이 압니다!')\n",
    "            print('벌칙 당첨!!')\n",
    "            break"
   ]
  }
 ],
 "metadata": {
  "kernelspec": {
   "display_name": "Python 3 (ipykernel)",
   "language": "python",
   "name": "python3"
  },
  "language_info": {
   "codemirror_mode": {
    "name": "ipython",
    "version": 3
   },
   "file_extension": ".py",
   "mimetype": "text/x-python",
   "name": "python",
   "nbconvert_exporter": "python",
   "pygments_lexer": "ipython3",
   "version": "3.9.7"
  }
 },
 "nbformat": 4,
 "nbformat_minor": 5
}
