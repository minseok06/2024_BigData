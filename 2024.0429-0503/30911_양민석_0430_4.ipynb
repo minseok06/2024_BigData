{
 "cells": [
  {
   "cell_type": "markdown",
   "id": "0372bec0",
   "metadata": {},
   "source": [
    "# 30911_양민석_0430_4 "
   ]
  },
  {
   "cell_type": "code",
   "execution_count": 4,
   "id": "af490ad1",
   "metadata": {},
   "outputs": [
    {
     "name": "stdout",
     "output_type": "stream",
     "text": [
      "연도 : 2024\n",
      "월 : 04\n",
      "일 : 30\n"
     ]
    }
   ],
   "source": [
    "date = '2024-04-30'\n",
    "\n",
    "print('연도 :',date[:4])\n",
    "print('월 :',date[5:7])\n",
    "print('일 :',date[-2:])"
   ]
  },
  {
   "cell_type": "markdown",
   "id": "474dc2ab",
   "metadata": {},
   "source": [
    "# 공백으로 문장을 나누는 명령어 split"
   ]
  },
  {
   "cell_type": "code",
   "execution_count": 15,
   "id": "734688ca",
   "metadata": {},
   "outputs": [
    {
     "name": "stdout",
     "output_type": "stream",
     "text": [
      "['준원이', '바보', '바보']\n",
      "준원이\n",
      "바보\n",
      "바보\n"
     ]
    }
   ],
   "source": [
    "a = '준원이 바보 바보'\n",
    "print(a.split()) # list\n",
    "print(a.split()[0])\n",
    "print(a.split()[1])\n",
    "print(a.split()[2])"
   ]
  },
  {
   "cell_type": "markdown",
   "id": "5897c470",
   "metadata": {},
   "source": [
    "# -(하이폰)을 기준으로 split"
   ]
  },
  {
   "cell_type": "code",
   "execution_count": 28,
   "id": "2c258e52",
   "metadata": {},
   "outputs": [
    {
     "name": "stdout",
     "output_type": "stream",
     "text": [
      "['2024', '04', '30']\n",
      "연도 : 2024\n",
      "월 : 04\n",
      "일 : 30\n"
     ]
    }
   ],
   "source": [
    "date = '2024-04-30'\n",
    "\n",
    "print(date.split('-'))\n",
    "print('연도 :', date.split('-')[0])\n",
    "print('월 :',date.split('-')[1])\n",
    "print('일 :',date.split('-')[2])"
   ]
  },
  {
   "cell_type": "markdown",
   "id": "4048b41e",
   "metadata": {},
   "source": [
    "# 리스트 순서대로 정렬하기\n",
    "- # 오름차순 .sort()\n",
    "- # 내림차순 .sort(reverse=True)"
   ]
  },
  {
   "cell_type": "code",
   "execution_count": 31,
   "id": "68edbaba",
   "metadata": {},
   "outputs": [
    {
     "name": "stdout",
     "output_type": "stream",
     "text": [
      "정렬 후 : ['바나나', '스테이크', '오므라이스', '우동', '짬뽕', '치킨', '피자']\n"
     ]
    }
   ],
   "source": [
    "# 리스트 원소 정렬하기\n",
    "food = ['피자','치킨','스테이크','짬뽕','바나나','오므라이스','우동']\n",
    "\n",
    "food.sort()\n",
    "print('정렬 후 :',food)"
   ]
  },
  {
   "cell_type": "code",
   "execution_count": 32,
   "id": "d3387423",
   "metadata": {},
   "outputs": [
    {
     "name": "stdout",
     "output_type": "stream",
     "text": [
      "정렬 후 : ['피자', '치킨', '짬뽕', '우동', '오므라이스', '스테이크', '바나나']\n"
     ]
    }
   ],
   "source": [
    "# 리스트 원소 내림차순(역순)으로 정렬하기\n",
    "food = ['피자','치킨','스테이크','짬뽕','바나나','오므라이스','우동']\n",
    "\n",
    "food.sort(reverse=True)\n",
    "print('정렬 후 :',food)"
   ]
  },
  {
   "cell_type": "code",
   "execution_count": 40,
   "id": "6c6512d7",
   "metadata": {},
   "outputs": [
    {
     "data": {
      "text/plain": [
       "[56, 53]"
      ]
     },
     "execution_count": 40,
     "metadata": {},
     "output_type": "execute_result"
    }
   ],
   "source": [
    "# 문제 역순으로 정렬하고 첫번째 두번째를 추력해 보기\n",
    "spending_6mon = [25, 36, 8, 53, 24, 56]\n",
    "\n",
    "spending_6mon.sort(reverse=True)\n",
    "spending_6mon[0:2]"
   ]
  },
  {
   "cell_type": "markdown",
   "id": "b486cddd",
   "metadata": {},
   "source": [
    "- # 최댓값 max\n",
    "- # 최소값 min\n",
    "- # 전체합 sum\n",
    "- # 원소 위치 index"
   ]
  },
  {
   "cell_type": "code",
   "execution_count": 57,
   "id": "f1477ed0",
   "metadata": {},
   "outputs": [
    {
     "name": "stdout",
     "output_type": "stream",
     "text": [
      "최댓값 : 56\n",
      "최소값 : 8\n",
      "전체합 : 202\n",
      "24의 위치는 : 5\n"
     ]
    }
   ],
   "source": [
    "# 리스트 원소 중 최댓값, 최소값 찾기\n",
    "spending_6mon = [25, 36, 8, 53, 24, 56]\n",
    "print('최댓값 :',max(spending_6mon))\n",
    "print('최소값 :',min(spending_6mon))\n",
    "\n",
    "# 리스트 원소 전체의 합 : sum\n",
    "print('전체합 :',sum(spending_6mon))\n",
    "\n",
    "# 리스트안의 원소의 위치를 찾기 index\n",
    "print('24의 위치는 :',spending_6mon.index(24)+1)"
   ]
  }
 ],
 "metadata": {
  "kernelspec": {
   "display_name": "Python 3 (ipykernel)",
   "language": "python",
   "name": "python3"
  },
  "language_info": {
   "codemirror_mode": {
    "name": "ipython",
    "version": 3
   },
   "file_extension": ".py",
   "mimetype": "text/x-python",
   "name": "python",
   "nbconvert_exporter": "python",
   "pygments_lexer": "ipython3",
   "version": "3.9.7"
  }
 },
 "nbformat": 4,
 "nbformat_minor": 5
}
