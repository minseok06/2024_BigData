{
 "cells": [
  {
   "cell_type": "markdown",
   "id": "1a5c222a",
   "metadata": {},
   "source": [
    "# 30911_양민석_0503_6"
   ]
  },
  {
   "cell_type": "markdown",
   "id": "90d7c188",
   "metadata": {},
   "source": [
    "앞으로 많이 사용될 변수 int 자료형의 범위를 알아내는 것이 이번 문제의 정답이다.\n",
    "\n",
    "int는 정수형이고 32비트 자료형이다.\n",
    "\n",
    "2진수로 나타내면 가장 작은 숫자는\n",
    "\n",
    "10000000 00000000 00000000 00000000\n",
    "\n",
    "이고, 가장 큰 숫자는 \n",
    "\n",
    "01111111 11111111 11111111 11111111\n",
    "\n",
    "이다.\n",
    "\n",
    "우리는 16진수 입력방법을 이용하면 쉽게 이 문제를 해결할 수 있다."
   ]
  },
  {
   "cell_type": "code",
   "execution_count": 9,
   "id": "c4358eae",
   "metadata": {},
   "outputs": [
    {
     "name": "stdout",
     "output_type": "stream",
     "text": [
      "-2147483648 2147483647\n"
     ]
    }
   ],
   "source": [
    "a = -2147483648\n",
    "b = 2147483647\n",
    "\n",
    "print(a, b)"
   ]
  },
  {
   "cell_type": "markdown",
   "id": "006137a2",
   "metadata": {},
   "source": [
    "다음 문장을 출력하시오.\n",
    "\n",
    "special characters\n",
    "[\\n,\\\",\\\\] is very important."
   ]
  },
  {
   "cell_type": "code",
   "execution_count": 17,
   "id": "1d1796a9",
   "metadata": {},
   "outputs": [
    {
     "name": "stdout",
     "output_type": "stream",
     "text": [
      "special characters\n",
      "[\\n,\\\",\\\\] is very important.\n"
     ]
    }
   ],
   "source": [
    "print('special characters')\n",
    "print('[\\\\n,\\\\\",\\\\\\] is very important.')"
   ]
  },
  {
   "cell_type": "markdown",
   "id": "63f6fab4",
   "metadata": {},
   "source": [
    "입력받은 정수를 그대로 출력한다.\n",
    "\n",
    "(scanf앞에 불필요한 안내 문구를 출력하지 않도록 합니다.)"
   ]
  },
  {
   "cell_type": "code",
   "execution_count": 29,
   "id": "eefc2a8f",
   "metadata": {},
   "outputs": [
    {
     "name": "stdout",
     "output_type": "stream",
     "text": [
      "5\n",
      "5\n"
     ]
    }
   ],
   "source": [
    "a = int(input())\n",
    "print(a)"
   ]
  }
 ],
 "metadata": {
  "kernelspec": {
   "display_name": "Python 3 (ipykernel)",
   "language": "python",
   "name": "python3"
  },
  "language_info": {
   "codemirror_mode": {
    "name": "ipython",
    "version": 3
   },
   "file_extension": ".py",
   "mimetype": "text/x-python",
   "name": "python",
   "nbconvert_exporter": "python",
   "pygments_lexer": "ipython3",
   "version": "3.9.7"
  }
 },
 "nbformat": 4,
 "nbformat_minor": 5
}
