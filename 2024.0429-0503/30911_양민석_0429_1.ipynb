{
 "cells": [
  {
   "cell_type": "markdown",
   "id": "cbc01097",
   "metadata": {},
   "source": [
    "# 30911_양민석_0429_1"
   ]
  },
  {
   "cell_type": "code",
   "execution_count": 1,
   "id": "fc36fd0c",
   "metadata": {},
   "outputs": [
    {
     "name": "stdout",
     "output_type": "stream",
     "text": [
      "이번주도 화이팅!\n"
     ]
    }
   ],
   "source": [
    "print('이번주도 화이팅!')"
   ]
  },
  {
   "cell_type": "markdown",
   "id": "fade1f98",
   "metadata": {},
   "source": [
    "# 리스트\n",
    "- 한곳에 여러 데이터를 저장하는 곳"
   ]
  },
  {
   "cell_type": "code",
   "execution_count": 5,
   "id": "b03a8f7d",
   "metadata": {},
   "outputs": [],
   "source": [
    "spending = [25,36,8,53,24,56]"
   ]
  },
  {
   "cell_type": "code",
   "execution_count": 6,
   "id": "4c883bbc",
   "metadata": {},
   "outputs": [
    {
     "data": {
      "text/plain": [
       "[25, 36, 8, 53, 24, 56]"
      ]
     },
     "execution_count": 6,
     "metadata": {},
     "output_type": "execute_result"
    }
   ],
   "source": [
    "spending"
   ]
  },
  {
   "cell_type": "code",
   "execution_count": 7,
   "id": "f54cd703",
   "metadata": {},
   "outputs": [
    {
     "name": "stdout",
     "output_type": "stream",
     "text": [
      "<class 'list'> [25, 36, 8, 53, 24, 56, 38, 79, 94, 20, 40.25]\n",
      "<class 'list'> [25, 36, 8, 53, 24]\n"
     ]
    }
   ],
   "source": [
    "# 일년 지출\n",
    "spending_year = [25,36,8,53,24,56,38,79,94,20,40.25]\n",
    "print(type(spending_year), spending_year)\n",
    "\n",
    "# 상반기 지출\n",
    "spending_6mon = [25,36,8,53,24]\n",
    "print(type(spending_6mon), spending_6mon)"
   ]
  },
  {
   "cell_type": "markdown",
   "id": "0bb6e09e",
   "metadata": {},
   "source": [
    "# len 리스트 개수"
   ]
  },
  {
   "cell_type": "code",
   "execution_count": 52,
   "id": "e5fa3e62",
   "metadata": {},
   "outputs": [
    {
     "name": "stdout",
     "output_type": "stream",
     "text": [
      "좋아하는 음식 개수 : 6\n",
      "좋아하는 음식 순위 : ['피자', '치킨', '떡볶이', '스테이크', '딸기', '파스타']\n",
      "가장 좋아하는 음식 : 피자\n",
      "가장 싫어하는 음식 : 파스타\n",
      "피자\n",
      "치킨\n",
      "떡볶이\n",
      "스테이크\n",
      "딸기\n",
      "파스타\n"
     ]
    }
   ],
   "source": [
    "# 가장 좋아하는 음식을 순서대로 저장한 리스트\n",
    "food = ['피자','치킨','떡볶이','스테이크','딸기','파스타']\n",
    "print('좋아하는 음식 개수 :',len(food)) # 개수\n",
    "print('좋아하는 음식 순위 :', food)\n",
    "print('가장 좋아하는 음식 :', food[0])\n",
    "print('가장 싫어하는 음식 :', food[-1])\n",
    "for i in food:\n",
    "    print(i)"
   ]
  },
  {
   "cell_type": "code",
   "execution_count": 85,
   "id": "924a3c47",
   "metadata": {},
   "outputs": [
    {
     "name": "stdout",
     "output_type": "stream",
     "text": [
      "좋아하는 음식의 순위별로 출력하세요\n",
      "1위 피자\n",
      "2위 치킨\n",
      "3위 떡볶이\n",
      "4위 스테이크\n",
      "5위 딸기\n",
      "6위 파스타\n",
      "7위 라면\n",
      "8위 햄버거\n"
     ]
    }
   ],
   "source": [
    "# 가장 좋아하는 음식을 순서대로 저장한 리스트\n",
    "food = ['피자','치킨','떡볶이','스테이크','딸기','파스타','라면','햄버거']\n",
    "print('좋아하는 음식의 순위별로 출력하세요')\n",
    "for i in range(len(food)):\n",
    "    print(f'{i+1}위 {food[i]}')"
   ]
  },
  {
   "cell_type": "markdown",
   "id": "c60f8658",
   "metadata": {},
   "source": [
    "# 리스트 추가는 append"
   ]
  },
  {
   "cell_type": "code",
   "execution_count": 87,
   "id": "bb65b985",
   "metadata": {},
   "outputs": [
    {
     "name": "stdout",
     "output_type": "stream",
     "text": [
      "['피자', '치킨', '떡볶이', '스테이크', '딸기', '파스타', '라면', '햄버거', '감자칩', '감자칩']\n"
     ]
    }
   ],
   "source": [
    "# food에 감자칩을 추가해 주면\n",
    "food.append('감자칩')\n",
    "print(food)"
   ]
  },
  {
   "cell_type": "markdown",
   "id": "809a17dc",
   "metadata": {},
   "source": [
    "# 리스트 입력받기"
   ]
  },
  {
   "cell_type": "code",
   "execution_count": 90,
   "id": "f0556cd8",
   "metadata": {},
   "outputs": [
    {
     "name": "stdout",
     "output_type": "stream",
     "text": [
      "해야할 일을 차례대로 입력해 주세요\n",
      "생일선물 사기\n",
      "인강 듣기\n",
      "파이썬 6장 공부하기\n",
      "책 읽기\n",
      "영단어 외우기\n",
      "['생일선물 사기', '인강 듣기', '파이썬 6장 공부하기', '책 읽기', '영단어 외우기']\n"
     ]
    }
   ],
   "source": [
    "to_do = []\n",
    "print('해야할 일을 차례대로 입력해 주세요')\n",
    "for i in range(5):\n",
    "    to_do.append(input())\n",
    "    \n",
    "print(to_do)"
   ]
  },
  {
   "cell_type": "markdown",
   "id": "824cc886",
   "metadata": {},
   "source": [
    "# 리스트 삭제는 remove"
   ]
  },
  {
   "cell_type": "code",
   "execution_count": 93,
   "id": "31870ecc",
   "metadata": {},
   "outputs": [
    {
     "name": "stdout",
     "output_type": "stream",
     "text": [
      "['인강 듣기', '파이썬 6장 공부하기', '책 읽기', '영단어 외우기']\n"
     ]
    }
   ],
   "source": [
    "# 리스트에서 지우는 명령어 remove\n",
    "to_do.remove('생일선물 사기')\n",
    "print(to_do)"
   ]
  },
  {
   "cell_type": "code",
   "execution_count": 106,
   "id": "f4fb1006",
   "metadata": {},
   "outputs": [
    {
     "name": "stdout",
     "output_type": "stream",
     "text": [
      "연도 : 2024\n",
      "월 : 04\n",
      "일 : 29\n"
     ]
    }
   ],
   "source": [
    "date = '2024-04-29'\n",
    "\n",
    "print('연도 :', date[0:4])\n",
    "print('월 :', date[5:7])\n",
    "print('일 :', date[8:10])"
   ]
  }
 ],
 "metadata": {
  "kernelspec": {
   "display_name": "Python 3 (ipykernel)",
   "language": "python",
   "name": "python3"
  },
  "language_info": {
   "codemirror_mode": {
    "name": "ipython",
    "version": 3
   },
   "file_extension": ".py",
   "mimetype": "text/x-python",
   "name": "python",
   "nbconvert_exporter": "python",
   "pygments_lexer": "ipython3",
   "version": "3.9.7"
  }
 },
 "nbformat": 4,
 "nbformat_minor": 5
}
