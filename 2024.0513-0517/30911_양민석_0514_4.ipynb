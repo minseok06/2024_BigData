{
 "cells": [
  {
   "cell_type": "markdown",
   "id": "fa6c972e",
   "metadata": {},
   "source": [
    "# 30911_양민석_0514_4"
   ]
  },
  {
   "cell_type": "markdown",
   "id": "cefc5419",
   "metadata": {},
   "source": [
    "어떤 정수가 입력되면 %를 붙여 출력하시오."
   ]
  },
  {
   "cell_type": "code",
   "execution_count": 3,
   "id": "ca225671",
   "metadata": {},
   "outputs": [
    {
     "name": "stdout",
     "output_type": "stream",
     "text": [
      "35\n",
      "35%\n"
     ]
    }
   ],
   "source": [
    "a = int(input())\n",
    "print(f'{a}%')"
   ]
  },
  {
   "cell_type": "markdown",
   "id": "f2f35e0e",
   "metadata": {},
   "source": [
    "입력 받은 두 정수를 출력한다."
   ]
  },
  {
   "cell_type": "code",
   "execution_count": 15,
   "id": "5f7229f1",
   "metadata": {},
   "outputs": [
    {
     "name": "stdout",
     "output_type": "stream",
     "text": [
      "5 7\n",
      "5 7\n"
     ]
    }
   ],
   "source": [
    "a, b = map(int, input().split())\n",
    "print(a, b)"
   ]
  },
  {
   "cell_type": "markdown",
   "id": "b1cd28c1",
   "metadata": {},
   "source": [
    "두 정수를 입력받아 순서를 바꿔서 출력하시오."
   ]
  },
  {
   "cell_type": "code",
   "execution_count": 16,
   "id": "06d3ddff",
   "metadata": {},
   "outputs": [
    {
     "name": "stdout",
     "output_type": "stream",
     "text": [
      "1 2\n",
      "2 1\n"
     ]
    }
   ],
   "source": [
    "a, b = map(int, input().split())\n",
    "print(b, a)"
   ]
  }
 ],
 "metadata": {
  "kernelspec": {
   "display_name": "Python 3 (ipykernel)",
   "language": "python",
   "name": "python3"
  },
  "language_info": {
   "codemirror_mode": {
    "name": "ipython",
    "version": 3
   },
   "file_extension": ".py",
   "mimetype": "text/x-python",
   "name": "python",
   "nbconvert_exporter": "python",
   "pygments_lexer": "ipython3",
   "version": "3.9.7"
  }
 },
 "nbformat": 4,
 "nbformat_minor": 5
}
