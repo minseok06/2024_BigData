{
 "cells": [
  {
   "cell_type": "markdown",
   "id": "32a49ff9",
   "metadata": {},
   "source": [
    "# 30911_양민석_0926_6"
   ]
  },
  {
   "cell_type": "markdown",
   "id": "3a79c921",
   "metadata": {},
   "source": [
    "# 문제 1번\n",
    "\n",
    "한 단어를 입력받아 출력한다."
   ]
  },
  {
   "cell_type": "code",
   "execution_count": 3,
   "id": "17bf8c1e",
   "metadata": {},
   "outputs": [
    {
     "name": "stdout",
     "output_type": "stream",
     "text": [
      "안녕하세요\n",
      "안녕하세요\n"
     ]
    }
   ],
   "source": [
    "a = input()\n",
    "print(a)"
   ]
  },
  {
   "cell_type": "markdown",
   "id": "e3aa0b3b",
   "metadata": {},
   "source": [
    "# 문제 2번\n",
    "\n",
    "scanf(\"%s\", str);를 사용하면 공백이후의 문자를 입력받지 못한다.\n",
    "\n",
    "공백이 있는 문자열을 입력받아 출력해보자."
   ]
  },
  {
   "cell_type": "code",
   "execution_count": 4,
   "id": "f0babe55",
   "metadata": {},
   "outputs": [
    {
     "name": "stdout",
     "output_type": "stream",
     "text": [
      "dk dkdk kdk\n",
      "dk dkdk kdk\n"
     ]
    }
   ],
   "source": [
    "a = input()\n",
    "print(a)"
   ]
  },
  {
   "cell_type": "markdown",
   "id": "113c2997",
   "metadata": {},
   "source": [
    "# 문제 3번\n",
    "\n",
    "두 정수(a, b)를 입력받아 a가 b보다 크거나 같으면(이상) 1, a가 b보다 작으면(미만) 0을 출력하는 프로그램을 작성해보자.\n",
    "\n",
    "참고)\n",
    "\n",
    "어떤 값을 비교하기 위해 관계연산자를 사용할 수 있다.\n",
    "\n",
    "관계연산자는 주어진 2개 값을 비교하고, 그 결과가 참인 경우, 참(true)을 나타내는 정수값 1로 계산되고 거짓인 경우, 거짓(false)를 나타내는 정수값 0으로 계산된다.\n",
    "\n",
    "관계연산자도 일반적인 사칙연산자처럼 주어진 두 수를 이용해 계산을 수행하고 그 결과를 1(참), 또는 0(거짓)으로 계산해 주는 연산자이다.\n",
    "\n",
    "관계연산자의 종류는 다음과 같다. >, <, >=, <=, ==(같다), !=(다르다)"
   ]
  },
  {
   "cell_type": "code",
   "execution_count": 16,
   "id": "4bd310d7",
   "metadata": {},
   "outputs": [
    {
     "name": "stdout",
     "output_type": "stream",
     "text": [
      "2 3\n",
      "0\n"
     ]
    }
   ],
   "source": [
    "a, b = map(int, input().split())\n",
    "\n",
    "if a >= b:\n",
    "    print(1)\n",
    "else:\n",
    "    print(0)"
   ]
  }
 ],
 "metadata": {
  "kernelspec": {
   "display_name": "Python 3 (ipykernel)",
   "language": "python",
   "name": "python3"
  },
  "language_info": {
   "codemirror_mode": {
    "name": "ipython",
    "version": 3
   },
   "file_extension": ".py",
   "mimetype": "text/x-python",
   "name": "python",
   "nbconvert_exporter": "python",
   "pygments_lexer": "ipython3",
   "version": "3.9.7"
  }
 },
 "nbformat": 4,
 "nbformat_minor": 5
}
