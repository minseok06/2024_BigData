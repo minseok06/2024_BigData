{
 "cells": [
  {
   "cell_type": "markdown",
   "id": "799dca2b",
   "metadata": {},
   "source": [
    "# 30911_양민석_0318_1"
   ]
  },
  {
   "cell_type": "markdown",
   "id": "9239658d",
   "metadata": {},
   "source": [
    "## if 조건문 사용하기"
   ]
  },
  {
   "cell_type": "code",
   "execution_count": 21,
   "id": "5f6a9464",
   "metadata": {},
   "outputs": [
    {
     "name": "stdout",
     "output_type": "stream",
     "text": [
      "세 정수의 최대값을 구합니다.\n",
      "정수 a의 값을 입력하세요.: 1\n",
      "정수 b의 값을 입력하세요.: 2\n",
      "정수 c의 값을 입력하세요.: 3\n",
      "최대값은 3입니다.\n"
     ]
    }
   ],
   "source": [
    "print('세 정수의 최대값을 구합니다.')\n",
    "a = int(input('정수 a의 값을 입력하세요.: '))\n",
    "b = int(input('정수 b의 값을 입력하세요.: '))\n",
    "c = int(input('정수 c의 값을 입력하세요.: '))\n",
    "\n",
    "# 최대값을 구하는 알고리즘\n",
    "max = a\n",
    "if b > max : max = b\n",
    "if c > max : max = c\n",
    "    \n",
    "print(f'최대값은 {max}입니다.')"
   ]
  },
  {
   "cell_type": "markdown",
   "id": "045584cd",
   "metadata": {},
   "source": [
    "## for 반복문 사용하기"
   ]
  },
  {
   "cell_type": "code",
   "execution_count": 22,
   "id": "89c2bcb9",
   "metadata": {},
   "outputs": [
    {
     "name": "stdout",
     "output_type": "stream",
     "text": [
      "정수를 입력하세요.: 11\n",
      "이 수는 양수입니다.\n",
      "정수를 입력하세요.: -11\n",
      "이 수는 음수입니다.\n",
      "정수를 입력하세요.: 0\n",
      "이 수는 0입니다.\n"
     ]
    }
   ],
   "source": [
    "for i in range(3):\n",
    "    j = int(input('정수를 입력하세요.: '))\n",
    "    if j >= 1:\n",
    "        print('이 수는 양수입니다.')\n",
    "    elif j < 0:\n",
    "        print('이 수는 음수입니다.')\n",
    "    else:\n",
    "        print('이 수는 0입니다.')"
   ]
  },
  {
   "cell_type": "markdown",
   "id": "fe61896c",
   "metadata": {},
   "source": [
    "## while 반복문 사용하기"
   ]
  },
  {
   "cell_type": "code",
   "execution_count": 27,
   "id": "c892b725",
   "metadata": {},
   "outputs": [
    {
     "name": "stdout",
     "output_type": "stream",
     "text": [
      "1부터 n까지 정수의 합을 구합니다.\n",
      "n값을 입력하세요.: 5\n",
      "1부터 5까지 정수의 합은 15입니다.\n"
     ]
    }
   ],
   "source": [
    "# while문 이용\n",
    "# 1부터 n까지 정수의 합 구하기\n",
    "\n",
    "print('1부터 n까지 정수의 합을 구합니다.')\n",
    "n = int(input('n값을 입력하세요.: '))\n",
    "\n",
    "sum = 0 # 초기화\n",
    "i = 1\n",
    "\n",
    "while i <= n :\n",
    "    sum += i # sum = sum + i\n",
    "    i += 1 # i = i + 1\n",
    "    \n",
    "# 출력\n",
    "print(f'1부터 {n}까지 정수의 합은 {sum}입니다.')"
   ]
  }
 ],
 "metadata": {
  "kernelspec": {
   "display_name": "Python 3 (ipykernel)",
   "language": "python",
   "name": "python3"
  },
  "language_info": {
   "codemirror_mode": {
    "name": "ipython",
    "version": 3
   },
   "file_extension": ".py",
   "mimetype": "text/x-python",
   "name": "python",
   "nbconvert_exporter": "python",
   "pygments_lexer": "ipython3",
   "version": "3.9.7"
  }
 },
 "nbformat": 4,
 "nbformat_minor": 5
}
