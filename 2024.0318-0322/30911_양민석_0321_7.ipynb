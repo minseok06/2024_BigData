{
 "cells": [
  {
   "cell_type": "markdown",
   "id": "73571dd3",
   "metadata": {},
   "source": [
    "# 30911_양민석_0321_7"
   ]
  },
  {
   "cell_type": "markdown",
   "id": "125c8eb0",
   "metadata": {},
   "source": [
    "# 저번 시간 복습"
   ]
  },
  {
   "cell_type": "code",
   "execution_count": 8,
   "id": "20d0f866",
   "metadata": {},
   "outputs": [
    {
     "name": "stdout",
     "output_type": "stream",
     "text": [
      "+와 -를 번갈아 출력합니다.\n",
      "몇 개를 출력할까요?: 4\n",
      "+-+-"
     ]
    }
   ],
   "source": [
    "print('+와 -를 번갈아 출력합니다.')\n",
    "n = int(input('몇 개를 출력할까요?: '))\n",
    "\n",
    "for i in range(n):\n",
    "    if i % 2:\n",
    "        print('-', end='')\n",
    "    else:\n",
    "        print('+', end='')"
   ]
  },
  {
   "cell_type": "markdown",
   "id": "9a7e8bc8",
   "metadata": {},
   "source": [
    "# 홀수부터 출력"
   ]
  },
  {
   "cell_type": "code",
   "execution_count": 15,
   "id": "74d247f6",
   "metadata": {},
   "outputs": [
    {
     "name": "stdout",
     "output_type": "stream",
     "text": [
      "+와 -를 번갈아 출력합니다.\n",
      "몇 개를 출력할까요?: 4\n",
      "+-+-"
     ]
    }
   ],
   "source": [
    "print('+와 -를 번갈아 출력합니다.')\n",
    "n = int(input('몇 개를 출력할까요?: '))\n",
    "\n",
    "for i in range(1, n+1):\n",
    "    if i % 2:\n",
    "        print('+', end='') # 홀수면 + 출력\n",
    "    else:\n",
    "        print('-', end='') # 짝수면 - 출력"
   ]
  },
  {
   "cell_type": "markdown",
   "id": "c37ed588",
   "metadata": {},
   "source": [
    "# +- 번갈아 출력"
   ]
  },
  {
   "cell_type": "code",
   "execution_count": 18,
   "id": "9dbfa3c7",
   "metadata": {},
   "outputs": [
    {
     "name": "stdout",
     "output_type": "stream",
     "text": [
      "+와 -를 번갈아 출력합니다.\n",
      "몇 개를 출력할까요?: 4\n",
      "+-+-\n"
     ]
    }
   ],
   "source": [
    "print('+와 -를 번갈아 출력합니다.')\n",
    "n = int(input('몇 개를 출력할까요?: '))\n",
    "\n",
    "for _ in range(n // 2):\n",
    "    print('+-', end='') # n // 2개의 +-를 출력\n",
    "    \n",
    "if n % 2:\n",
    "    print('+', end='') # n이 홀 수 일때만 +출력\n",
    "\n",
    "print()"
   ]
  },
  {
   "cell_type": "markdown",
   "id": "5de21dbb",
   "metadata": {},
   "source": [
    "# * 입력받은 만큼 출력"
   ]
  },
  {
   "cell_type": "code",
   "execution_count": 30,
   "id": "44bc8d47",
   "metadata": {},
   "outputs": [
    {
     "name": "stdout",
     "output_type": "stream",
     "text": [
      "*를 출력합니다.\n",
      "몇 개를 출력할까요?: 10\n",
      "몇 개마다 줄바꿈할까요?: 5\n",
      "*****\n",
      "*****\n"
     ]
    }
   ],
   "source": [
    "print('*를 출력합니다.')\n",
    "num = int(input('몇 개를 출력할까요?: '))\n",
    "line = int(input('몇 개마다 줄바꿈할까요?: '))\n",
    "\n",
    "for i in range(num):\n",
    "    print('*', end='')\n",
    "    if i % line == line - 1:\n",
    "        print()"
   ]
  },
  {
   "cell_type": "markdown",
   "id": "6cc8b0c5",
   "metadata": {},
   "source": [
    "# 0 이하 값이면 다시 입력"
   ]
  },
  {
   "cell_type": "code",
   "execution_count": 71,
   "id": "ac683543",
   "metadata": {},
   "outputs": [
    {
     "name": "stdout",
     "output_type": "stream",
     "text": [
      "1부터 n까지 정수의 합을 구합니다.\n",
      "n값을 입력하세요.: 5\n",
      "15\n"
     ]
    }
   ],
   "source": [
    "print('1부터 n까지 정수의 합을 구합니다.')\n",
    "n = int(input('n값을 입력하세요.: '))\n",
    "\n",
    "sum = 0\n",
    "i = 1\n",
    "\n",
    "for i in range(i, n+1):\n",
    "    sum += i\n",
    "    i += i\n",
    "\n",
    "print(sum)"
   ]
  },
  {
   "cell_type": "code",
   "execution_count": 74,
   "id": "ad2a012a",
   "metadata": {},
   "outputs": [
    {
     "name": "stdout",
     "output_type": "stream",
     "text": [
      "1부터 n까지 정수의 합을 구합니다.\n",
      "n값을 입력하세요.: 0\n",
      "n값을 입력하세요.: 10\n",
      "1부터 10까지 정수의 합은 55입니다.\n"
     ]
    }
   ],
   "source": [
    "print('1부터 n까지 정수의 합을 구합니다.')\n",
    "\n",
    "while True:\n",
    "    n = int(input('n값을 입력하세요.: '))\n",
    "    if n > 0 :\n",
    "        break\n",
    "\n",
    "sum = 0\n",
    "i = 1\n",
    "\n",
    "for i in range(1, n+1):\n",
    "    sum += i\n",
    "    i += i\n",
    "\n",
    "print(f'1부터 {n}까지 정수의 합은 {sum}입니다.')"
   ]
  }
 ],
 "metadata": {
  "kernelspec": {
   "display_name": "Python 3 (ipykernel)",
   "language": "python",
   "name": "python3"
  },
  "language_info": {
   "codemirror_mode": {
    "name": "ipython",
    "version": 3
   },
   "file_extension": ".py",
   "mimetype": "text/x-python",
   "name": "python",
   "nbconvert_exporter": "python",
   "pygments_lexer": "ipython3",
   "version": "3.9.7"
  }
 },
 "nbformat": 4,
 "nbformat_minor": 5
}
