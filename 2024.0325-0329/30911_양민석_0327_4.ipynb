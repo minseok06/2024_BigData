{
  "nbformat": 4,
  "nbformat_minor": 0,
  "metadata": {
    "colab": {
      "provenance": []
    },
    "kernelspec": {
      "name": "python3",
      "display_name": "Python 3"
    },
    "language_info": {
      "name": "python"
    }
  },
  "cells": [
    {
      "cell_type": "code",
      "source": [
        "print('학생 그룹 점수의 합계와 평균을 구합니다.')\n",
        "a = int(input('1번 학생의 점수를 입력하세요.: '))\n",
        "b = int(input('2번 학생의 점수를 입력하세요.: '))\n",
        "c = int(input('3번 학생의 점수를 입력하세요.: '))\n",
        "d = int(input('4번 학생의 점수를 입력하세요.: '))\n",
        "e = int(input('5번 학생의 점수를 입력하세요.: '))\n",
        "f = a+b+c+d+e\n",
        "print(f'합계는 {f}점입니다.')\n",
        "print(f'평균은 {f/5}점입니다')"
      ],
      "metadata": {
        "colab": {
          "base_uri": "https://localhost:8080/"
        },
        "id": "YZNc_h836Xqc",
        "outputId": "e2ef9245-b97e-46df-edd4-c1bc78507730"
      },
      "execution_count": 7,
      "outputs": [
        {
          "output_type": "stream",
          "name": "stdout",
          "text": [
            "학생 그룹 점수의 합계와 평균을 구합니다.\n",
            "1번 학생의 점수를 입력하세요.: 100\n",
            "2번 학생의 점수를 입력하세요.: 95\n",
            "3번 학생의 점수를 입력하세요.: 80\n",
            "4번 학생의 점수를 입력하세요.: 85\n",
            "5번 학생의 점수를 입력하세요.: 90\n",
            "합계는 450점입니다.\n",
            "평균은 90.0점입니다\n"
          ]
        }
      ]
    },
    {
      "cell_type": "markdown",
      "source": [
        "- 배열 : 묶음 단위로 값을 지정하는 자료구조\n",
        "  - 원소 : 배열에 저장된 각 객체\n",
        "  - 각 원소는 0,1,2 순서대로 인덱스(주소)를 부여받음\n",
        "  - 원소의 자료명은 int형 float의 어떤것도 상관없음\n",
        "  - 서로 다른 자료형을 같이 저장할 수 있음\n",
        "  - 배열 원소 자체를 배열에 저장할 수 있음"
      ],
      "metadata": {
        "id": "I_bbdaFe9mHU"
      }
    },
    {
      "cell_type": "code",
      "source": [
        "# list 선언\n",
        "list01 = [] # 빈리스트\n",
        "a = [1,2,3,4,5]\n",
        "b = ['A','B','C']\n",
        "print(a)\n",
        "print(b)"
      ],
      "metadata": {
        "colab": {
          "base_uri": "https://localhost:8080/"
        },
        "id": "lJHNqjj_-XPO",
        "outputId": "1338fead-8b8f-46c2-e141-65e6ae6366ad"
      },
      "execution_count": 9,
      "outputs": [
        {
          "output_type": "stream",
          "name": "stdout",
          "text": [
            "[1, 2, 3, 4, 5]\n",
            "['A', 'B', 'C']\n"
          ]
        }
      ]
    },
    {
      "cell_type": "markdown",
      "source": [
        "- 튜플\n",
        "    - 원소에 순서를 매겨 결합한 것으로 원소를 변경할 수 없는 자료형\n",
        "    - ()만 사용하면 빈 튜플 생성"
      ],
      "metadata": {
        "id": "keAGWG0v-4UF"
      }
    },
    {
      "cell_type": "code",
      "source": [
        "tuple01 = ()\n",
        "tuple02 = 1,2,3\n",
        "tuple03 = 'A','B','C'\n",
        "\n",
        "print(tuple01)\n",
        "print(tuple02)\n",
        "print(tuple03)"
      ],
      "metadata": {
        "colab": {
          "base_uri": "https://localhost:8080/"
        },
        "id": "oeM1QyNA_Rok",
        "outputId": "34cde141-a53d-4306-ae32-d5fec83fc2d4"
      },
      "execution_count": 12,
      "outputs": [
        {
          "output_type": "stream",
          "name": "stdout",
          "text": [
            "()\n",
            "(1, 2, 3)\n",
            "('A', 'B', 'C')\n"
          ]
        }
      ]
    },
    {
      "cell_type": "code",
      "source": [
        "a = tuple(range(7))\n",
        "print(a)"
      ],
      "metadata": {
        "colab": {
          "base_uri": "https://localhost:8080/"
        },
        "id": "OFdEmETv_rUB",
        "outputId": "bc3ecee0-9a15-48c7-807d-8a811d281480"
      },
      "execution_count": 18,
      "outputs": [
        {
          "output_type": "stream",
          "name": "stdout",
          "text": [
            "(0, 1, 2, 3, 4, 5, 6)\n"
          ]
        }
      ]
    }
  ]
}