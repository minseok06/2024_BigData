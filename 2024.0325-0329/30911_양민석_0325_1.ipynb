{
 "cells": [
  {
   "cell_type": "markdown",
   "id": "2b38096a",
   "metadata": {},
   "source": [
    "# 30911_양민석_0325_1"
   ]
  },
  {
   "cell_type": "markdown",
   "id": "2b790b09",
   "metadata": {},
   "source": [
    "# 지난주 복습"
   ]
  },
  {
   "cell_type": "code",
   "execution_count": 12,
   "id": "fdcb0dc6",
   "metadata": {},
   "outputs": [
    {
     "name": "stdout",
     "output_type": "stream",
     "text": [
      "1부터 n까지 정수의 합을 구합니다.\n",
      "n값을 입력하세요.: 0\n",
      "n값을 입력하세요.: 00\n",
      "n값을 입력하세요.: -1\n",
      "n값을 입력하세요.: 5\n",
      "1부터 5까지 정수의 합은 15입니다.\n"
     ]
    }
   ],
   "source": [
    "# 1부터 n까지 정수의 합 구하기\n",
    "print('1부터 n까지 정수의 합을 구합니다.')\n",
    "\n",
    "# 변수 선언 및 초기화\n",
    "sum = 0\n",
    "i =1\n",
    "\n",
    "# n값이 0보다 크면 빠져나간다.\n",
    "while True:\n",
    "    n = int(input('n값을 입력하세요.: '))\n",
    "    if n > 0:\n",
    "        break\n",
    "\n",
    "# n값이 입력받은 값에서 -1이 되기 때문에 +1를 붙여준다.\n",
    "for i in range(1, n+1):\n",
    "    sum += i\n",
    "    i += 1\n",
    "\n",
    "print(f'1부터 {n}까지 정수의 합은 {sum}입니다.')"
   ]
  },
  {
   "cell_type": "markdown",
   "id": "9cb0f767",
   "metadata": {},
   "source": [
    "- # 변의 길이와 넓이가 모두 정수인 직사각형에서 변의 길이를 구하는 프로그램\n",
    "    - # 짧은 변과 긴 변의 길이는 구별하지 않음\n",
    "    - # 예) 직사각형의 넓이가 32이면 변의 길이를 1 x 32, 2 x 16, 4 x 8만 출력"
   ]
  },
  {
   "cell_type": "code",
   "execution_count": 36,
   "id": "a7730ad9",
   "metadata": {},
   "outputs": [
    {
     "name": "stdout",
     "output_type": "stream",
     "text": [
      "직사각형의 넓이를 입력하세요.: 32\n",
      "1 x 32\n",
      "2 x 16\n",
      "4 x 8\n"
     ]
    }
   ],
   "source": [
    "# 가로, 세로 길이가 정수이고 넓이가 area인 직사각형에서 변의 길이 나열하기\n",
    "\n",
    "\n",
    "area = int(input('직사각형의 넓이를 입력하세요.: '))\n",
    "\n",
    "for i in range(1, area+1):\n",
    "    if i * i > area : break\n",
    "    if area % i :continue\n",
    "    print(f'{i} x {area // i}')"
   ]
  },
  {
   "cell_type": "code",
   "execution_count": null,
   "id": "101db091",
   "metadata": {},
   "outputs": [],
   "source": []
  }
 ],
 "metadata": {
  "kernelspec": {
   "display_name": "Python 3 (ipykernel)",
   "language": "python",
   "name": "python3"
  },
  "language_info": {
   "codemirror_mode": {
    "name": "ipython",
    "version": 3
   },
   "file_extension": ".py",
   "mimetype": "text/x-python",
   "name": "python",
   "nbconvert_exporter": "python",
   "pygments_lexer": "ipython3",
   "version": "3.9.7"
  }
 },
 "nbformat": 4,
 "nbformat_minor": 5
}
