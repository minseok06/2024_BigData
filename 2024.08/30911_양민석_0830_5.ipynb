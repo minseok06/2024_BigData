{
 "cells": [
  {
   "cell_type": "markdown",
   "id": "9601f6b0",
   "metadata": {},
   "source": [
    "# 30911_양민석_0830_5"
   ]
  },
  {
   "cell_type": "markdown",
   "id": "19eb0d80",
   "metadata": {},
   "source": [
    "# 문제 1번\n",
    "섭씨 온도가 입력되면 화씨 온도로 변환하시오.\n",
    "\n",
    "화씨 온도 = 9 / 5 * 섭씨온도 + 32"
   ]
  },
  {
   "cell_type": "code",
   "execution_count": 16,
   "id": "7e075d64",
   "metadata": {},
   "outputs": [
    {
     "name": "stdout",
     "output_type": "stream",
     "text": [
      "30\n",
      "86.000\n"
     ]
    }
   ],
   "source": [
    "a = int(input())\n",
    "\n",
    "b = 9/5 * a + 32\n",
    "\n",
    "print('%.3f' % b)"
   ]
  },
  {
   "cell_type": "markdown",
   "id": "5d8f3252",
   "metadata": {},
   "source": [
    "# 문제 2번\n",
    "10진수 정수를 입력받아 8진수와 16진수로 출력한다."
   ]
  },
  {
   "cell_type": "code",
   "execution_count": 20,
   "id": "d61c6609",
   "metadata": {},
   "outputs": [
    {
     "name": "stdout",
     "output_type": "stream",
     "text": [
      "10\n",
      "12 A\n"
     ]
    }
   ],
   "source": [
    "a = int(input())\n",
    "\n",
    "print('%o' % a, '%X' % a)"
   ]
  },
  {
   "cell_type": "markdown",
   "id": "676453c3",
   "metadata": {},
   "source": [
    "# 문제 3번\n",
    "입력된 문자를 그대로 출력한다."
   ]
  },
  {
   "cell_type": "code",
   "execution_count": 28,
   "id": "680b13e4",
   "metadata": {},
   "outputs": [
    {
     "name": "stdout",
     "output_type": "stream",
     "text": [
      "a\n",
      "a\n"
     ]
    }
   ],
   "source": [
    "a = input()\n",
    "\n",
    "print('%c' % a)"
   ]
  }
 ],
 "metadata": {
  "kernelspec": {
   "display_name": "Python 3 (ipykernel)",
   "language": "python",
   "name": "python3"
  },
  "language_info": {
   "codemirror_mode": {
    "name": "ipython",
    "version": 3
   },
   "file_extension": ".py",
   "mimetype": "text/x-python",
   "name": "python",
   "nbconvert_exporter": "python",
   "pygments_lexer": "ipython3",
   "version": "3.9.7"
  }
 },
 "nbformat": 4,
 "nbformat_minor": 5
}
