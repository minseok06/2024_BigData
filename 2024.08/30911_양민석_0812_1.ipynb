{
  "nbformat": 4,
  "nbformat_minor": 0,
  "metadata": {
    "colab": {
      "provenance": []
    },
    "kernelspec": {
      "name": "python3",
      "display_name": "Python 3"
    },
    "language_info": {
      "name": "python"
    }
  },
  "cells": [
    {
      "cell_type": "code",
      "execution_count": 17,
      "metadata": {
        "colab": {
          "base_uri": "https://localhost:8080/"
        },
        "id": "c7FnzBVG_GpB",
        "outputId": "5aebcfa8-45ab-4c1b-8e2a-6c78fc3c5659"
      },
      "outputs": [
        {
          "output_type": "stream",
          "name": "stdout",
          "text": [
            "몸무게를 입력해주세요. : 58\n",
            "키를 입력해주세요. : 162\n",
            "BMI =  22.100289590001523\n",
            "정상\n"
          ]
        }
      ],
      "source": [
        "# BMI에 따른 비만도 판단 조건식\n",
        "\n",
        "weight = int(input('몸무게를 입력해주세요. : '))\n",
        "height = int(input('키를 입력해주세요. : '))\n",
        "\n",
        "bmi = weight / (height/100*height/100)\n",
        "print('BMI = ', bmi)\n",
        "\n",
        "if bmi < 18.5:\n",
        "  print('저체중')\n",
        "elif bmi <= 23:\n",
        "  print('정상')\n",
        "elif bmi <= 25:\n",
        "  print('과체중')\n",
        "elif bmi <= 30:\n",
        "  print('비만')\n",
        "else :\n",
        "  print('고도비만')"
      ]
    },
    {
      "cell_type": "code",
      "source": [
        "for i in range(3):\n",
        "  print(i+1, 'Hello world!')"
      ],
      "metadata": {
        "colab": {
          "base_uri": "https://localhost:8080/"
        },
        "id": "nVU3Y3jkEB1v",
        "outputId": "86538336-a8b4-4758-cfa6-38955705e262"
      },
      "execution_count": 23,
      "outputs": [
        {
          "output_type": "stream",
          "name": "stdout",
          "text": [
            "1 Hello world!\n",
            "2 Hello world!\n",
            "3 Hello world!\n"
          ]
        }
      ]
    },
    {
      "cell_type": "code",
      "source": [
        "print('Hello world!\\n'*3)"
      ],
      "metadata": {
        "colab": {
          "base_uri": "https://localhost:8080/"
        },
        "id": "SwcwfVU8ILT9",
        "outputId": "fd705013-8389-41a3-8a8f-d0e41c272c1a"
      },
      "execution_count": 25,
      "outputs": [
        {
          "output_type": "stream",
          "name": "stdout",
          "text": [
            "Hello world!\n",
            "Hello world!\n",
            "Hello world!\n",
            "\n"
          ]
        }
      ]
    },
    {
      "cell_type": "code",
      "source": [
        "# 1 ~ 10까지 숫자중 홀수만 출력\n",
        "for i in range(1, 11, 2):\n",
        "  print(i, end=', ')"
      ],
      "metadata": {
        "colab": {
          "base_uri": "https://localhost:8080/"
        },
        "id": "8rwUhO9vI22l",
        "outputId": "b5bcff53-0b02-4750-9a9b-5d82651f8e88"
      },
      "execution_count": 30,
      "outputs": [
        {
          "output_type": "stream",
          "name": "stdout",
          "text": [
            "1, 3, 5, 7, 9, "
          ]
        }
      ]
    },
    {
      "cell_type": "code",
      "source": [
        "# pow 제공\n",
        "for x in range(-5, 6, 1):\n",
        "  y = pow(x, 2) # y = x ** 2\n",
        "  print('x', x, 'y=', y)"
      ],
      "metadata": {
        "colab": {
          "base_uri": "https://localhost:8080/"
        },
        "id": "0VWG3BaDLBp3",
        "outputId": "9dbf372f-38c4-4c02-e053-a517e480012c"
      },
      "execution_count": 33,
      "outputs": [
        {
          "output_type": "stream",
          "name": "stdout",
          "text": [
            "x -5 y= 25\n",
            "x -4 y= 16\n",
            "x -3 y= 9\n",
            "x -2 y= 4\n",
            "x -1 y= 1\n",
            "x 0 y= 0\n",
            "x 1 y= 1\n",
            "x 2 y= 4\n",
            "x 3 y= 9\n",
            "x 4 y= 16\n",
            "x 5 y= 25\n"
          ]
        }
      ]
    },
    {
      "cell_type": "code",
      "source": [
        "for score in scores:\n",
        "  if score >= 90:\n",
        "    print('A')"
      ],
      "metadata": {
        "colab": {
          "base_uri": "https://localhost:8080/",
          "height": 187
        },
        "id": "pmqXK45lL-8W",
        "outputId": "64fbc695-758d-4938-97e2-9b5ad9de26cf"
      },
      "execution_count": 34,
      "outputs": [
        {
          "output_type": "error",
          "ename": "NameError",
          "evalue": "name 'scores' is not defined",
          "traceback": [
            "\u001b[0;31m---------------------------------------------------------------------------\u001b[0m",
            "\u001b[0;31mNameError\u001b[0m                                 Traceback (most recent call last)",
            "\u001b[0;32m<ipython-input-34-ca4e37633923>\u001b[0m in \u001b[0;36m<cell line: 1>\u001b[0;34m()\u001b[0m\n\u001b[0;32m----> 1\u001b[0;31m \u001b[0;32mfor\u001b[0m \u001b[0mscore\u001b[0m \u001b[0;32min\u001b[0m \u001b[0mscores\u001b[0m\u001b[0;34m:\u001b[0m\u001b[0;34m\u001b[0m\u001b[0;34m\u001b[0m\u001b[0m\n\u001b[0m\u001b[1;32m      2\u001b[0m   \u001b[0;32mif\u001b[0m \u001b[0mscore\u001b[0m \u001b[0;34m>=\u001b[0m \u001b[0;36m90\u001b[0m\u001b[0;34m:\u001b[0m\u001b[0;34m\u001b[0m\u001b[0;34m\u001b[0m\u001b[0m\n\u001b[1;32m      3\u001b[0m     \u001b[0mprint\u001b[0m\u001b[0;34m(\u001b[0m\u001b[0;34m'A'\u001b[0m\u001b[0;34m)\u001b[0m\u001b[0;34m\u001b[0m\u001b[0;34m\u001b[0m\u001b[0m\n",
            "\u001b[0;31mNameError\u001b[0m: name 'scores' is not defined"
          ]
        }
      ]
    },
    {
      "cell_type": "code",
      "source": [
        "import random\n",
        "scores = []\n",
        "for i in range(200):\n",
        "  scores.append(random.randint(1, 100))\n",
        "\n",
        "cnt = 0\n",
        "for scores in scores :\n",
        "  if scores >= 90:\n",
        "    print(scores)\n",
        "    cnt +=1\n",
        "\n",
        "print('총개수', cnt)"
      ],
      "metadata": {
        "colab": {
          "base_uri": "https://localhost:8080/"
        },
        "id": "fLtI50e0MaEo",
        "outputId": "3b0cbbef-7b1b-418c-dc8e-43336efa089c"
      },
      "execution_count": 42,
      "outputs": [
        {
          "output_type": "stream",
          "name": "stdout",
          "text": [
            "90\n",
            "90\n",
            "90\n",
            "92\n",
            "99\n",
            "100\n",
            "94\n",
            "98\n",
            "93\n",
            "100\n",
            "95\n",
            "95\n",
            "91\n",
            "95\n",
            "94\n",
            "98\n",
            "90\n",
            "90\n",
            "97\n",
            "93\n",
            "총개수 20\n"
          ]
        }
      ]
    }
  ]
}