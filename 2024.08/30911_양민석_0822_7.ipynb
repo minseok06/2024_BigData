{
 "cells": [
  {
   "cell_type": "markdown",
   "id": "d3b419c1",
   "metadata": {},
   "source": [
    "# 30911_양민석_0822_7"
   ]
  },
  {
   "cell_type": "markdown",
   "id": "1a1e1864",
   "metadata": {},
   "source": [
    "## 문제 1\n",
    "두 실수를 입력받아 두 실수의 곱을 출력하되 소수 둘째자리까지 출력하시오."
   ]
  },
  {
   "cell_type": "code",
   "execution_count": 17,
   "id": "42e44b64",
   "metadata": {},
   "outputs": [
    {
     "name": "stdout",
     "output_type": "stream",
     "text": [
      "1.23 4.56\n",
      "5.61\n"
     ]
    }
   ],
   "source": [
    "a, b = map(float, input().split())\n",
    "print(round(a*b, 2))"
   ]
  },
  {
   "cell_type": "markdown",
   "id": "466c1bd6",
   "metadata": {},
   "source": [
    "## 문제 2\n",
    "삼각형의 넓이를 구하는 프로그램을 작성한다.\n",
    "\n",
    "삼각형의 넓이 = 밑변 * 높이 / 2"
   ]
  },
  {
   "cell_type": "code",
   "execution_count": 29,
   "id": "6beee2a2",
   "metadata": {},
   "outputs": [
    {
     "name": "stdout",
     "output_type": "stream",
     "text": [
      "5 2\n",
      "5.0\n"
     ]
    }
   ],
   "source": [
    "a, b = map(int, input().split())\n",
    "print(a*b/2)"
   ]
  },
  {
   "cell_type": "markdown",
   "id": "b89e7484",
   "metadata": {},
   "source": [
    "## 문제 3\n",
    "하루는 24시간이다.\n",
    "\n",
    "일(day)이 입력으로 주어지면 시간으로 변환하시오."
   ]
  },
  {
   "cell_type": "code",
   "execution_count": 40,
   "id": "f4236bc6",
   "metadata": {},
   "outputs": [
    {
     "name": "stdout",
     "output_type": "stream",
     "text": [
      "2\n",
      "48\n"
     ]
    }
   ],
   "source": [
    "day = int(input())\n",
    "print(24*day)"
   ]
  }
 ],
 "metadata": {
  "kernelspec": {
   "display_name": "Python 3 (ipykernel)",
   "language": "python",
   "name": "python3"
  },
  "language_info": {
   "codemirror_mode": {
    "name": "ipython",
    "version": 3
   },
   "file_extension": ".py",
   "mimetype": "text/x-python",
   "name": "python",
   "nbconvert_exporter": "python",
   "pygments_lexer": "ipython3",
   "version": "3.9.7"
  }
 },
 "nbformat": 4,
 "nbformat_minor": 5
}
