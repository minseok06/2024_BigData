{
 "cells": [
  {
   "cell_type": "markdown",
   "id": "97badcc8",
   "metadata": {},
   "source": [
    "# 30911_양민석_0521_4"
   ]
  },
  {
   "cell_type": "markdown",
   "id": "4859a0bb",
   "metadata": {},
   "source": [
    "## 딕셔너리 : 사전\n",
    "- 키와 값으로 구성됩니다.\n",
    "- {}를 이용한다."
   ]
  },
  {
   "cell_type": "code",
   "execution_count": 3,
   "id": "2cad8fbf",
   "metadata": {},
   "outputs": [
    {
     "name": "stdout",
     "output_type": "stream",
     "text": [
      "{'break': '깨어지다', 'bring': '가져오다', 'brush': '붓', 'brave': '용감한'}\n"
     ]
    }
   ],
   "source": [
    "eng = {'break':'깨어지다','bring':'가져오다','brush':'붓','brave':'용감한'}\n",
    "print(eng)"
   ]
  },
  {
   "cell_type": "code",
   "execution_count": 7,
   "id": "bb2f159a",
   "metadata": {},
   "outputs": [
    {
     "name": "stdout",
     "output_type": "stream",
     "text": [
      "깨어지다\n"
     ]
    }
   ],
   "source": [
    "print(eng['break'])"
   ]
  },
  {
   "cell_type": "code",
   "execution_count": 8,
   "id": "12a3ea74",
   "metadata": {},
   "outputs": [
    {
     "name": "stdout",
     "output_type": "stream",
     "text": [
      "붓\n",
      "용감한\n"
     ]
    }
   ],
   "source": [
    "print(eng['brush'])\n",
    "print(eng['brave'])"
   ]
  },
  {
   "cell_type": "code",
   "execution_count": 43,
   "id": "0e4fb176",
   "metadata": {},
   "outputs": [
    {
     "name": "stdout",
     "output_type": "stream",
     "text": [
      "어떤 메뉴를 드시겠습니까? 참치김밥\n",
      "3500 원 입니다.\n"
     ]
    }
   ],
   "source": [
    "menu = {'김밥':2500,'참치김밥':3500,'라면':3000,'치즈라면':4000}\n",
    "eat = input('어떤 메뉴를 드시겠습니까? ')\n",
    "print(menu[eat],'원 입니다.')"
   ]
  },
  {
   "cell_type": "markdown",
   "id": "736dc4de",
   "metadata": {},
   "source": [
    "## 값 수정\n",
    "- 라면 가격 인상"
   ]
  },
  {
   "cell_type": "code",
   "execution_count": 47,
   "id": "f274dd44",
   "metadata": {},
   "outputs": [],
   "source": [
    "menu['라면'] = 3500\n",
    "menu['치즈라면'] = 4500"
   ]
  },
  {
   "cell_type": "code",
   "execution_count": 48,
   "id": "6872e568",
   "metadata": {},
   "outputs": [
    {
     "name": "stdout",
     "output_type": "stream",
     "text": [
      "{'김밥': 2500, '참치김밥': 3500, '라면': 3500, '치즈라면': 4500}\n"
     ]
    }
   ],
   "source": [
    "print(menu)"
   ]
  },
  {
   "cell_type": "markdown",
   "id": "d830fce9",
   "metadata": {},
   "source": [
    "## 돈가스 6000원 메뉴 추가"
   ]
  },
  {
   "cell_type": "code",
   "execution_count": 49,
   "id": "0be82665",
   "metadata": {},
   "outputs": [
    {
     "name": "stdout",
     "output_type": "stream",
     "text": [
      "{'김밥': 2500, '참치김밥': 3500, '라면': 3500, '치즈라면': 4500, '돈가스': 6000}\n"
     ]
    }
   ],
   "source": [
    "menu['돈가스'] = 6000\n",
    "print(menu)"
   ]
  },
  {
   "cell_type": "markdown",
   "id": "873df974",
   "metadata": {},
   "source": [
    "## 메뉴 및 가격을 입력 받아 넣기"
   ]
  },
  {
   "cell_type": "code",
   "execution_count": 54,
   "id": "528b505f",
   "metadata": {},
   "outputs": [
    {
     "name": "stdout",
     "output_type": "stream",
     "text": [
      "추가 할 메뉴를 입력해주세요: 치즈돈가스\n",
      "판매 할 가격을 정해주세요: 7000\n"
     ]
    }
   ],
   "source": [
    "menuplus = input('추가 할 메뉴를 입력해주세요: ')\n",
    "menuprice = input('판매 할 가격을 정해주세요: ')\n",
    "menu[menuplus] = menuprice"
   ]
  },
  {
   "cell_type": "code",
   "execution_count": 55,
   "id": "d4eac514",
   "metadata": {},
   "outputs": [
    {
     "data": {
      "text/plain": [
       "{'김밥': 2500,\n",
       " '참치김밥': 3500,\n",
       " '라면': 3500,\n",
       " '치즈라면': 4500,\n",
       " '돈가스': 6000,\n",
       " '치즈돈가스': '7000'}"
      ]
     },
     "execution_count": 55,
     "metadata": {},
     "output_type": "execute_result"
    }
   ],
   "source": [
    "menu"
   ]
  },
  {
   "cell_type": "markdown",
   "id": "d56f31ee",
   "metadata": {},
   "source": [
    "## 키-값을 삭제하기 del\n",
    "- ## 돈가스 삭제"
   ]
  },
  {
   "cell_type": "code",
   "execution_count": 57,
   "id": "df06e505",
   "metadata": {},
   "outputs": [
    {
     "name": "stdout",
     "output_type": "stream",
     "text": [
      "{'김밥': 2500, '참치김밥': 3500, '라면': 3500, '치즈라면': 4500, '돈가스': 6000, '치즈돈가스': '7000'}\n",
      "삭제할 메뉴는?돈가스\n",
      "{'김밥': 2500, '참치김밥': 3500, '라면': 3500, '치즈라면': 4500, '치즈돈가스': '7000'}\n"
     ]
    }
   ],
   "source": [
    "print(menu)\n",
    "menudel = input('삭제할 메뉴는?')\n",
    "del menu[menudel]\n",
    "print(menu)"
   ]
  },
  {
   "cell_type": "markdown",
   "id": "da143c35",
   "metadata": {},
   "source": [
    "## 딕셔너리의 키만 꺼내기 : keys()\n",
    "## 딕셔너리의 값만 꺼내기 : values()"
   ]
  },
  {
   "cell_type": "code",
   "execution_count": 58,
   "id": "e439f58f",
   "metadata": {},
   "outputs": [
    {
     "name": "stdout",
     "output_type": "stream",
     "text": [
      "dict_keys(['김밥', '참치김밥', '라면', '치즈라면', '치즈돈가스'])\n"
     ]
    }
   ],
   "source": [
    "print(menu.keys())"
   ]
  },
  {
   "cell_type": "code",
   "execution_count": 62,
   "id": "32a8a382",
   "metadata": {},
   "outputs": [
    {
     "name": "stdout",
     "output_type": "stream",
     "text": [
      "dict_values([2500, 3500, 3500, 4500, '7000'])\n"
     ]
    }
   ],
   "source": [
    "print(menu.values())"
   ]
  },
  {
   "cell_type": "markdown",
   "id": "68220762",
   "metadata": {},
   "source": [
    "# 추출한 키값의 결과값을 리스트로 바꾸기\n",
    "- ## print(list(menu.keys()))"
   ]
  },
  {
   "cell_type": "code",
   "execution_count": 63,
   "id": "0e0e97c9",
   "metadata": {},
   "outputs": [
    {
     "name": "stdout",
     "output_type": "stream",
     "text": [
      "['김밥', '참치김밥', '라면', '치즈라면', '치즈돈가스']\n"
     ]
    }
   ],
   "source": [
    "print(list(menu.keys()))"
   ]
  },
  {
   "cell_type": "markdown",
   "id": "ad4d2d92",
   "metadata": {},
   "source": [
    "## key+value = items"
   ]
  },
  {
   "cell_type": "code",
   "execution_count": 64,
   "id": "695b1a64",
   "metadata": {},
   "outputs": [
    {
     "name": "stdout",
     "output_type": "stream",
     "text": [
      "dict_items([('김밥', 2500), ('참치김밥', 3500), ('라면', 3500), ('치즈라면', 4500), ('치즈돈가스', '7000')])\n"
     ]
    }
   ],
   "source": [
    "print(menu.items())"
   ]
  },
  {
   "cell_type": "markdown",
   "id": "ec912710",
   "metadata": {},
   "source": [
    "## 키를 기준으로 딕셔너리 정렬하기 : sorted()\n",
    "## 키를 기준으로 딕셔너리 역순 정렬하기 : reverse = True\n",
    "## 키-값 쌍을 묶어서 딕셔너리 정렬하기 : sorted() items"
   ]
  },
  {
   "cell_type": "code",
   "execution_count": 98,
   "id": "7fe08efb",
   "metadata": {},
   "outputs": [
    {
     "name": "stdout",
     "output_type": "stream",
     "text": [
      "['김밥', '돈가스', '라면', '참치김밥', '치즈라면']\n",
      "['치즈라면', '참치김밥', '라면', '돈가스', '김밥']\n",
      "[('김밥', 2500), ('돈가스', 6000), ('라면', 3500), ('참치김밥', 3500), ('치즈라면', 4500)]\n"
     ]
    }
   ],
   "source": [
    "print(sorted(menu.keys()))\n",
    "print(sorted(menu.keys(), reverse = True))\n",
    "print(sorted(menu.items()))"
   ]
  },
  {
   "cell_type": "code",
   "execution_count": 100,
   "id": "0dd6caeb",
   "metadata": {},
   "outputs": [
    {
     "name": "stdout",
     "output_type": "stream",
     "text": [
      "[('돈가스', 6000), ('치즈라면', 4500), ('참치김밥', 3500), ('라면', 3500), ('김밥', 2500)]\n",
      "[('돈가스', 6000), ('치즈라면', 4500)]\n"
     ]
    }
   ],
   "source": [
    "# 값을 기준으로 키-값 쌍 정렬하기 : sorted()\n",
    "import operator\n",
    "\n",
    "print(sorted(menu.items(), key=operator.itemgetter(1), reverse=True))\n",
    "print(sorted(menu.items(), key=operator.itemgetter(1), reverse=True)[:2])"
   ]
  },
  {
   "cell_type": "code",
   "execution_count": 75,
   "id": "a9d6671d",
   "metadata": {},
   "outputs": [
    {
     "name": "stdout",
     "output_type": "stream",
     "text": [
      "{'도윤': 43, '하윤': 82, '시우': 76, '지유': 61, '주원': 94}\n",
      "어떤 학생의 점수가 궁금하신가요?주원\n",
      "94 입니다\n"
     ]
    }
   ],
   "source": [
    "midterm = {'도윤':43, '하윤':82, '시우':76, '지유':61, '주원':94}\n",
    "print(midterm)\n",
    "student = input('어떤 학생의 점수가 궁금하신가요?')\n",
    "\n",
    "# if 어떤학생인지 찾기\n",
    "if student in midterm.keys():\n",
    "    print(midterm[student],'입니다')\n",
    "else:\n",
    "    print('해당 학생은 없습니다.')"
   ]
  },
  {
   "cell_type": "code",
   "execution_count": 80,
   "id": "e354ec44",
   "metadata": {},
   "outputs": [
    {
     "name": "stdout",
     "output_type": "stream",
     "text": [
      "하윤 82\n",
      "시우 76\n",
      "주원 94\n"
     ]
    }
   ],
   "source": [
    "# 중간고사 점수가 70점 이상인 학생은 누구?\n",
    "midterm = {'도윤':43, '하윤':82, '시우':76, '지유':61, '주원':94}\n",
    "\n",
    "for k,v in midterm.items():\n",
    "    if v >= 70:\n",
    "        print(k,v)"
   ]
  }
 ],
 "metadata": {
  "kernelspec": {
   "display_name": "Python 3 (ipykernel)",
   "language": "python",
   "name": "python3"
  },
  "language_info": {
   "codemirror_mode": {
    "name": "ipython",
    "version": 3
   },
   "file_extension": ".py",
   "mimetype": "text/x-python",
   "name": "python",
   "nbconvert_exporter": "python",
   "pygments_lexer": "ipython3",
   "version": "3.9.7"
  }
 },
 "nbformat": 4,
 "nbformat_minor": 5
}
